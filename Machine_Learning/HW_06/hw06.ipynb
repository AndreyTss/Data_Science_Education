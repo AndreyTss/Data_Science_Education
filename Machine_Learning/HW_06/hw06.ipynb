{
 "cells": [
  {
   "cell_type": "markdown",
   "metadata": {},
   "source": [
    "# Домашнее задание 6: классификация текстов"
   ]
  },
  {
   "cell_type": "markdown",
   "metadata": {},
   "source": [
    "В этом домашнем задании вам предстоит построить классификатор текстов!\n",
    "\n",
    "Данные мы будем использовать из Kaggle соревнования: https://www.kaggle.com/competitions/nlp-getting-started/data Оттуда надо скачать файл train.csv. На обучающую и тестовую выборки его поделим кодом ниже, менять его не надо!"
   ]
  },
  {
   "cell_type": "markdown",
   "metadata": {},
   "source": [
    "Мы будем работать с датасетом постов из твиттера. Нам предстоит решать задачу бинарной классификации - определять содержатся ли в твитте информация о настоящей катастрофе/инциденте или нет."
   ]
  },
  {
   "cell_type": "code",
   "execution_count": 18,
   "metadata": {},
   "outputs": [],
   "source": [
    "import pandas as pd"
   ]
  },
  {
   "cell_type": "code",
   "execution_count": 19,
   "metadata": {},
   "outputs": [],
   "source": [
    "data = pd.read_csv('train.csv')"
   ]
  },
  {
   "cell_type": "code",
   "execution_count": 20,
   "metadata": {},
   "outputs": [
    {
     "data": {
      "text/html": [
       "<div>\n",
       "<style scoped>\n",
       "    .dataframe tbody tr th:only-of-type {\n",
       "        vertical-align: middle;\n",
       "    }\n",
       "\n",
       "    .dataframe tbody tr th {\n",
       "        vertical-align: top;\n",
       "    }\n",
       "\n",
       "    .dataframe thead th {\n",
       "        text-align: right;\n",
       "    }\n",
       "</style>\n",
       "<table border=\"1\" class=\"dataframe\">\n",
       "  <thead>\n",
       "    <tr style=\"text-align: right;\">\n",
       "      <th></th>\n",
       "      <th>id</th>\n",
       "      <th>keyword</th>\n",
       "      <th>location</th>\n",
       "      <th>text</th>\n",
       "      <th>target</th>\n",
       "    </tr>\n",
       "  </thead>\n",
       "  <tbody>\n",
       "    <tr>\n",
       "      <th>0</th>\n",
       "      <td>1</td>\n",
       "      <td>NaN</td>\n",
       "      <td>NaN</td>\n",
       "      <td>Our Deeds are the Reason of this #earthquake M...</td>\n",
       "      <td>1</td>\n",
       "    </tr>\n",
       "    <tr>\n",
       "      <th>1</th>\n",
       "      <td>4</td>\n",
       "      <td>NaN</td>\n",
       "      <td>NaN</td>\n",
       "      <td>Forest fire near La Ronge Sask. Canada</td>\n",
       "      <td>1</td>\n",
       "    </tr>\n",
       "    <tr>\n",
       "      <th>2</th>\n",
       "      <td>5</td>\n",
       "      <td>NaN</td>\n",
       "      <td>NaN</td>\n",
       "      <td>All residents asked to 'shelter in place' are ...</td>\n",
       "      <td>1</td>\n",
       "    </tr>\n",
       "    <tr>\n",
       "      <th>3</th>\n",
       "      <td>6</td>\n",
       "      <td>NaN</td>\n",
       "      <td>NaN</td>\n",
       "      <td>13,000 people receive #wildfires evacuation or...</td>\n",
       "      <td>1</td>\n",
       "    </tr>\n",
       "    <tr>\n",
       "      <th>4</th>\n",
       "      <td>7</td>\n",
       "      <td>NaN</td>\n",
       "      <td>NaN</td>\n",
       "      <td>Just got sent this photo from Ruby #Alaska as ...</td>\n",
       "      <td>1</td>\n",
       "    </tr>\n",
       "  </tbody>\n",
       "</table>\n",
       "</div>"
      ],
      "text/plain": [
       "   id keyword location                                               text  \\\n",
       "0   1     NaN      NaN  Our Deeds are the Reason of this #earthquake M...   \n",
       "1   4     NaN      NaN             Forest fire near La Ronge Sask. Canada   \n",
       "2   5     NaN      NaN  All residents asked to 'shelter in place' are ...   \n",
       "3   6     NaN      NaN  13,000 people receive #wildfires evacuation or...   \n",
       "4   7     NaN      NaN  Just got sent this photo from Ruby #Alaska as ...   \n",
       "\n",
       "   target  \n",
       "0       1  \n",
       "1       1  \n",
       "2       1  \n",
       "3       1  \n",
       "4       1  "
      ]
     },
     "execution_count": 20,
     "metadata": {},
     "output_type": "execute_result"
    }
   ],
   "source": [
    "data.head()"
   ]
  },
  {
   "cell_type": "code",
   "execution_count": 21,
   "metadata": {},
   "outputs": [],
   "source": [
    "from sklearn.model_selection import train_test_split\n",
    "\n",
    "train, test = train_test_split(data, test_size=0.3, random_state=42)"
   ]
  },
  {
   "cell_type": "markdown",
   "metadata": {},
   "source": [
    "## Задание 1 (0.5 балла)\n",
    "\n",
    "Выведете на экран информацию о пропусках в данных. Если пропуски присутствуют заполните их пустой строкой."
   ]
  },
  {
   "cell_type": "code",
   "execution_count": 22,
   "metadata": {},
   "outputs": [
    {
     "name": "stdout",
     "output_type": "stream",
     "text": [
      "train: \n",
      "\n",
      " id             0\n",
      "keyword       44\n",
      "location    1760\n",
      "text           0\n",
      "target         0\n",
      "dtype: int64\n",
      "\n",
      "test: \n",
      "\n",
      " id            0\n",
      "keyword      17\n",
      "location    773\n",
      "text          0\n",
      "target        0\n",
      "dtype: int64\n"
     ]
    }
   ],
   "source": [
    "print('train: \\n\\n', train.isnull().sum(axis = 0))\n",
    "print('\\ntest: \\n\\n', test.isnull().sum(axis = 0))"
   ]
  },
  {
   "cell_type": "code",
   "execution_count": 23,
   "metadata": {},
   "outputs": [],
   "source": [
    "di_train = train.drop(labels = 'id', axis = 1, inplace = False)\n",
    "di_test = test.drop(labels = 'id', axis = 1, inplace = False)"
   ]
  },
  {
   "cell_type": "code",
   "execution_count": 24,
   "metadata": {},
   "outputs": [
    {
     "name": "stdout",
     "output_type": "stream",
     "text": [
      "Пропусков в тренировочной: 0\n",
      "Пропусков в тестовой: 0\n"
     ]
    }
   ],
   "source": [
    "# Заменяем на пустые строки NaN в категориальных\n",
    "test_fixed = di_test.fillna(\"\")\n",
    "train_fixed = di_train.fillna(\"\")\n",
    "\n",
    "# Контрольный\n",
    "print('Пропусков в тренировочной:', train_fixed.isnull().any().sum(axis = 0))\n",
    "print('Пропусков в тестовой:', test_fixed.isnull().any().sum(axis = 0))"
   ]
  },
  {
   "cell_type": "markdown",
   "metadata": {},
   "source": [
    "## Задание 2 (1 балл)\n",
    "Давайте немного посмотрим на наши данные. Визуализируйте (где явно просят) или выведете информацию о следующем:\n",
    "\n",
    "1. Какое распределение классов в обучающей выборке?\n",
    "2. Посмотрите на колонку \"keyword\" - возьмите 10 наиболее встречающихся значений, постройте ступенчатую диаграмму распределения классов в зависимости от значения keyword, сделайте выводы."
   ]
  },
  {
   "cell_type": "code",
   "execution_count": 25,
   "metadata": {},
   "outputs": [
    {
     "data": {
      "text/plain": [
       "target\n",
       "0    56.746\n",
       "1    43.254\n",
       "dtype: float64"
      ]
     },
     "execution_count": 25,
     "metadata": {},
     "output_type": "execute_result"
    }
   ],
   "source": [
    "round(train_fixed.groupby('target').size() / len(train_fixed) * 100, 3)"
   ]
  },
  {
   "cell_type": "code",
   "execution_count": 26,
   "metadata": {},
   "outputs": [],
   "source": [
    "import seaborn as sns\n",
    "import numpy as np\n",
    "import matplotlib.pyplot as plt\n",
    "%matplotlib inline"
   ]
  },
  {
   "cell_type": "code",
   "execution_count": 27,
   "metadata": {},
   "outputs": [
    {
     "data": {
      "text/plain": [
       "target\n",
       "0    56.746\n",
       "1    43.254\n",
       "dtype: float64"
      ]
     },
     "execution_count": 27,
     "metadata": {},
     "output_type": "execute_result"
    }
   ],
   "source": [
    "round(train_fixed.groupby(['target']).size() / len(train_fixed) * 100, 3)"
   ]
  },
  {
   "cell_type": "code",
   "execution_count": 29,
   "metadata": {
    "scrolled": false
   },
   "outputs": [
    {
     "name": "stdout",
     "output_type": "stream",
     "text": [
      "['', 'damage', 'siren', 'fatalities', 'deluge', 'refugees', 'derail', 'fear', 'tsunami']\n",
      "[12, 19, 31, 34, 16, 5, 17, 15, 3]\n",
      "[32, 17, 4, 17, 26, 13, 15, 27, 20]\n"
     ]
    }
   ],
   "source": [
    "s = train_fixed['keyword'].value_counts().head(10).index\n",
    "l = train_fixed.groupby(['keyword', 'target']).size()\n",
    "\n",
    "null = []\n",
    "one = []\n",
    "for i in range(1, len(l[s]), 2):\n",
    "    null.append(l[s][i - 1])\n",
    "    one.append(l[s][i])\n",
    "    \n",
    "lk = list(s)\n",
    "lk.pop(3)\n",
    "print(lk)\n",
    "print(null)\n",
    "print(one)"
   ]
  },
  {
   "cell_type": "code",
   "execution_count": 30,
   "metadata": {
    "scrolled": false
   },
   "outputs": [
    {
     "data": {
      "text/plain": [
       "[<matplotlib.lines.Line2D at 0x200c66eb550>]"
      ]
     },
     "execution_count": 30,
     "metadata": {},
     "output_type": "execute_result"
    },
    {
     "data": {
      "image/png": "[encoded data removed]",
      "text/plain": [
       "<Figure size 1152x576 with 1 Axes>"
      ]
     },
     "metadata": {
      "needs_background": "light"
     },
     "output_type": "display_data"
    }
   ],
   "source": [
    "most_popular_keywords = plt.figure(figsize=(16, 8))\n",
    "\n",
    "plt.step(lk, one)\n",
    "plt.step(lk, null)"
   ]
  },
  {
   "cell_type": "markdown",
   "metadata": {},
   "source": [
    "## Задание 3 (0.5 балла) \n",
    "\n",
    "В этом задании предлагается объединить все три текстовых столбца в один (просто сконкатенировать cтроки) и убрать столбец с индексом."
   ]
  },
  {
   "cell_type": "code",
   "execution_count": 31,
   "metadata": {},
   "outputs": [
    {
     "data": {
      "text/html": [
       "<div>\n",
       "<style scoped>\n",
       "    .dataframe tbody tr th:only-of-type {\n",
       "        vertical-align: middle;\n",
       "    }\n",
       "\n",
       "    .dataframe tbody tr th {\n",
       "        vertical-align: top;\n",
       "    }\n",
       "\n",
       "    .dataframe thead th {\n",
       "        text-align: right;\n",
       "    }\n",
       "</style>\n",
       "<table border=\"1\" class=\"dataframe\">\n",
       "  <thead>\n",
       "    <tr style=\"text-align: right;\">\n",
       "      <th></th>\n",
       "      <th>target</th>\n",
       "      <th>keyword_location_text</th>\n",
       "    </tr>\n",
       "  </thead>\n",
       "  <tbody>\n",
       "    <tr>\n",
       "      <th>1186</th>\n",
       "      <td>0</td>\n",
       "      <td>bridge%20collapse  Ashes 2015: AustraliaÛªs c...</td>\n",
       "    </tr>\n",
       "    <tr>\n",
       "      <th>4071</th>\n",
       "      <td>1</td>\n",
       "      <td>hail Carol Stream, Illinois GREAT MICHIGAN TEC...</td>\n",
       "    </tr>\n",
       "    <tr>\n",
       "      <th>5461</th>\n",
       "      <td>1</td>\n",
       "      <td>police Houston  CNN: Tennessee movie theater s...</td>\n",
       "    </tr>\n",
       "    <tr>\n",
       "      <th>5787</th>\n",
       "      <td>1</td>\n",
       "      <td>rioting  Still rioting in a couple of hours le...</td>\n",
       "    </tr>\n",
       "    <tr>\n",
       "      <th>7445</th>\n",
       "      <td>0</td>\n",
       "      <td>wounds Lake Highlands Crack in the path where ...</td>\n",
       "    </tr>\n",
       "    <tr>\n",
       "      <th>...</th>\n",
       "      <td>...</td>\n",
       "      <td>...</td>\n",
       "    </tr>\n",
       "    <tr>\n",
       "      <th>5226</th>\n",
       "      <td>0</td>\n",
       "      <td>obliteration Merica! @Eganator2000 There aren'...</td>\n",
       "    </tr>\n",
       "    <tr>\n",
       "      <th>5390</th>\n",
       "      <td>0</td>\n",
       "      <td>panic  just had a panic attack bc I don't have...</td>\n",
       "    </tr>\n",
       "    <tr>\n",
       "      <th>860</th>\n",
       "      <td>0</td>\n",
       "      <td>blood  Omron HEM-712C Automatic Blood Pressure...</td>\n",
       "    </tr>\n",
       "    <tr>\n",
       "      <th>7603</th>\n",
       "      <td>1</td>\n",
       "      <td>Officials say a quarantine is in place at an...</td>\n",
       "    </tr>\n",
       "    <tr>\n",
       "      <th>7270</th>\n",
       "      <td>1</td>\n",
       "      <td>whirlwind Stamford &amp; Cork (&amp; Shropshire) I mov...</td>\n",
       "    </tr>\n",
       "  </tbody>\n",
       "</table>\n",
       "<p>5329 rows × 2 columns</p>\n",
       "</div>"
      ],
      "text/plain": [
       "      target                              keyword_location_text\n",
       "1186       0  bridge%20collapse  Ashes 2015: AustraliaÛªs c...\n",
       "4071       1  hail Carol Stream, Illinois GREAT MICHIGAN TEC...\n",
       "5461       1  police Houston  CNN: Tennessee movie theater s...\n",
       "5787       1  rioting  Still rioting in a couple of hours le...\n",
       "7445       0  wounds Lake Highlands Crack in the path where ...\n",
       "...      ...                                                ...\n",
       "5226       0  obliteration Merica! @Eganator2000 There aren'...\n",
       "5390       0  panic  just had a panic attack bc I don't have...\n",
       "860        0  blood  Omron HEM-712C Automatic Blood Pressure...\n",
       "7603       1    Officials say a quarantine is in place at an...\n",
       "7270       1  whirlwind Stamford & Cork (& Shropshire) I mov...\n",
       "\n",
       "[5329 rows x 2 columns]"
      ]
     },
     "execution_count": 31,
     "metadata": {},
     "output_type": "execute_result"
    }
   ],
   "source": [
    "# Cтолбец с индексом убрал еще в задании 1 \n",
    "\n",
    "train_fixed[\"keyword_location_text\"] = train_fixed[\"keyword\"].astype(str) + \" \" + train_fixed[\"location\"].astype(str) + \" \" + train_fixed[\"text\"].astype(str)\n",
    "train = train_fixed.drop(labels = ['keyword', 'location', 'text'], axis = 1, inplace = False)\n",
    "\n",
    "train"
   ]
  },
  {
   "cell_type": "code",
   "execution_count": 94,
   "metadata": {},
   "outputs": [
    {
     "data": {
      "text/html": [
       "<div>\n",
       "<style scoped>\n",
       "    .dataframe tbody tr th:only-of-type {\n",
       "        vertical-align: middle;\n",
       "    }\n",
       "\n",
       "    .dataframe tbody tr th {\n",
       "        vertical-align: top;\n",
       "    }\n",
       "\n",
       "    .dataframe thead th {\n",
       "        text-align: right;\n",
       "    }\n",
       "</style>\n",
       "<table border=\"1\" class=\"dataframe\">\n",
       "  <thead>\n",
       "    <tr style=\"text-align: right;\">\n",
       "      <th></th>\n",
       "      <th>target</th>\n",
       "      <th>keyword_location_text</th>\n",
       "    </tr>\n",
       "  </thead>\n",
       "  <tbody>\n",
       "    <tr>\n",
       "      <th>2644</th>\n",
       "      <td>1</td>\n",
       "      <td>destruction  So you have a new weapon that can...</td>\n",
       "    </tr>\n",
       "    <tr>\n",
       "      <th>2227</th>\n",
       "      <td>0</td>\n",
       "      <td>deluge  The f$&amp;amp;@ing things I do for #GISHW...</td>\n",
       "    </tr>\n",
       "    <tr>\n",
       "      <th>5448</th>\n",
       "      <td>1</td>\n",
       "      <td>police UK DT @georgegalloway: RT @Galloway4May...</td>\n",
       "    </tr>\n",
       "    <tr>\n",
       "      <th>132</th>\n",
       "      <td>0</td>\n",
       "      <td>aftershock  Aftershock back to school kick off...</td>\n",
       "    </tr>\n",
       "    <tr>\n",
       "      <th>6845</th>\n",
       "      <td>0</td>\n",
       "      <td>trauma Montgomery County, MD in response to tr...</td>\n",
       "    </tr>\n",
       "    <tr>\n",
       "      <th>...</th>\n",
       "      <td>...</td>\n",
       "      <td>...</td>\n",
       "    </tr>\n",
       "    <tr>\n",
       "      <th>4307</th>\n",
       "      <td>0</td>\n",
       "      <td>hellfire 570 Vanderbilt; Brooklyn, NY New cock...</td>\n",
       "    </tr>\n",
       "    <tr>\n",
       "      <th>3375</th>\n",
       "      <td>1</td>\n",
       "      <td>evacuation USA Bend Post Office roofers cut ga...</td>\n",
       "    </tr>\n",
       "    <tr>\n",
       "      <th>1710</th>\n",
       "      <td>1</td>\n",
       "      <td>collided  Monsoon flooding - Monsoon rains hav...</td>\n",
       "    </tr>\n",
       "    <tr>\n",
       "      <th>4898</th>\n",
       "      <td>1</td>\n",
       "      <td>massacre Ireland Remember this was a massacre ...</td>\n",
       "    </tr>\n",
       "    <tr>\n",
       "      <th>6753</th>\n",
       "      <td>1</td>\n",
       "      <td>tornado Asheville, NC I liked a @YouTube video...</td>\n",
       "    </tr>\n",
       "  </tbody>\n",
       "</table>\n",
       "<p>2284 rows × 2 columns</p>\n",
       "</div>"
      ],
      "text/plain": [
       "      target                              keyword_location_text\n",
       "2644       1  destruction  So you have a new weapon that can...\n",
       "2227       0  deluge  The f$&amp;@ing things I do for #GISHW...\n",
       "5448       1  police UK DT @georgegalloway: RT @Galloway4May...\n",
       "132        0  aftershock  Aftershock back to school kick off...\n",
       "6845       0  trauma Montgomery County, MD in response to tr...\n",
       "...      ...                                                ...\n",
       "4307       0  hellfire 570 Vanderbilt; Brooklyn, NY New cock...\n",
       "3375       1  evacuation USA Bend Post Office roofers cut ga...\n",
       "1710       1  collided  Monsoon flooding - Monsoon rains hav...\n",
       "4898       1  massacre Ireland Remember this was a massacre ...\n",
       "6753       1  tornado Asheville, NC I liked a @YouTube video...\n",
       "\n",
       "[2284 rows x 2 columns]"
      ]
     },
     "execution_count": 94,
     "metadata": {},
     "output_type": "execute_result"
    }
   ],
   "source": [
    "test_fixed[\"keyword_location_text\"] = test_fixed[\"keyword\"].astype(str) + \" \" + test_fixed[\"location\"].astype(str) + \" \" + test_fixed[\"text\"].astype(str)\n",
    "test = test_fixed.drop(labels = ['keyword', 'location', 'text'], axis = 1, inplace = False)\n",
    "\n",
    "test"
   ]
  },
  {
   "cell_type": "markdown",
   "metadata": {},
   "source": [
    "## Задание 4 (0.5 балла)\n",
    "\n",
    "Далее мы будем пока работать только с train частью.\n",
    "\n",
    "1. Предобработайте данные (train часть) с помощью CountVectorizer.\n",
    "2. Какого размера получилась матрица?\n"
   ]
  },
  {
   "cell_type": "code",
   "execution_count": 32,
   "metadata": {},
   "outputs": [],
   "source": [
    "from sklearn.feature_extraction.text import CountVectorizer"
   ]
  },
  {
   "cell_type": "code",
   "execution_count": 33,
   "metadata": {
    "scrolled": true
   },
   "outputs": [
    {
     "name": "stdout",
     "output_type": "stream",
     "text": [
      "Размер матрицы:  (5329, 18455)\n"
     ]
    }
   ],
   "source": [
    "vectorizer = CountVectorizer()\n",
    "X = vectorizer.fit_transform(train['keyword_location_text'])\n",
    "\n",
    "#print(vectorizer.get_feature_names())\n",
    "\n",
    "#print(vectorizer.vocabulary_)\n",
    "print('Размер матрицы: ', X.toarray().shape)"
   ]
  },
  {
   "cell_type": "markdown",
   "metadata": {},
   "source": [
    "## Задание 5 (1 балл)\n",
    "\n",
    "В предыдущем пункте у вас должна была получиться достаточно большая матрица.\n",
    "Если вы взгляните на текст, то увидете, что там есть множество специальных символов, ссылок и прочего мусора.\n",
    "\n",
    "Давайте также посмотрим на словарь, который получился в результате построения CountVectorizer, его можно найти в поле vocabulary_ инстанса этого класса. Давайте напишем функцию, которая печает ответы на следующие вопросы:\n",
    "\n",
    "1. Найдите в этом словаре все слова, которые содержат цифры. Сколько таких слов нашлось?\n",
    "\n",
    "2. Найдите все слова, которые содержат символы пунктуации. Сколько таких слов нашлось? \n",
    "\n",
    "3. Сколько хэштегов (токен начинается на #) и упоминаний (токен начинается на @) осталось в словаре?"
   ]
  },
  {
   "cell_type": "code",
   "execution_count": 34,
   "metadata": {},
   "outputs": [],
   "source": [
    "import re"
   ]
  },
  {
   "cell_type": "code",
   "execution_count": 54,
   "metadata": {},
   "outputs": [
    {
     "name": "stdout",
     "output_type": "stream",
     "text": [
      "Все слова с цифрами: 3812\n",
      "Все слова с символами пунктуации: 380\n",
      "Осталось хэштегов и упоминаний: 0\n"
     ]
    }
   ],
   "source": [
    "first = []\n",
    "second = []\n",
    "fird = []\n",
    "dic = vectorizer.vocabulary_\n",
    "\n",
    "for i in dic:\n",
    "    if any(map(str.isdigit, i)):\n",
    "        first.append(i)\n",
    "    elif not bool(re.match(\"\"\"^[a-zA-Z][a-z0-9 !?:;\"'.,]+$\"\"\", i)):\n",
    "        second.append(i)\n",
    "    elif i.startswith('#') or i.startswith('@'):\n",
    "        fird.append(i)\n",
    "    \n",
    "print('Все слова с цифрами:', len(first))\n",
    "print('Все слова с символами пунктуации:', len(second))\n",
    "print('Осталось хэштегов и упоминаний:', len(fird))"
   ]
  },
  {
   "cell_type": "markdown",
   "metadata": {},
   "source": [
    "## Задание 6 (0.5 балла)\n",
    "\n",
    "Вспомним, что на семинаре по текстам мы узнали, что в nltk есть специальный токенизатор для текстов - TweetTokenizer. Попробуем применить CountVectorizer с этим токенизатором. Ответьте на все вопросы из предыдущего пункта для TweetTokenizer и сравните результаты."
   ]
  },
  {
   "cell_type": "code",
   "execution_count": 55,
   "metadata": {},
   "outputs": [
    {
     "data": {
      "text/plain": [
       "<5329x19670 sparse matrix of type '<class 'numpy.int64'>'\n",
       "\twith 94563 stored elements in Compressed Sparse Row format>"
      ]
     },
     "execution_count": 55,
     "metadata": {},
     "output_type": "execute_result"
    }
   ],
   "source": [
    "from nltk.tokenize import TweetTokenizer\n",
    "# Чтобы узнать, какие параметры есть у этого токенайзера - используйте help(TweetTokenizer)\n",
    "# Для того, чтобы передать токенайзер в CountVectorizer используйте параметр tokenizer\n",
    "\n",
    "cnt = CountVectorizer(tokenizer=TweetTokenizer().tokenize)\n",
    "cnt.fit_transform(train['keyword_location_text'])"
   ]
  },
  {
   "cell_type": "code",
   "execution_count": 56,
   "metadata": {},
   "outputs": [],
   "source": [
    "first = []\n",
    "second = []\n",
    "fird = []\n",
    "\n",
    "for i in list(cnt.vocabulary_):\n",
    "    if any(map(str.isdigit, i)):\n",
    "        first.append(i)\n",
    "    elif not bool(re.match(\"\"\"^[a-zA-Z][a-z0-9 !?:;\"'.,]+$\"\"\", i)):\n",
    "        second.append(i)\n",
    "    elif i.startswith('#') or i.startswith('@'):\n",
    "        fird.append(i)"
   ]
  },
  {
   "cell_type": "code",
   "execution_count": 57,
   "metadata": {},
   "outputs": [
    {
     "name": "stdout",
     "output_type": "stream",
     "text": [
      "Все слова с цифрами: 3939\n",
      "Все слова с символами пунктуации: 3840\n",
      "Осталось хэштегов и упоминаний: 0\n"
     ]
    }
   ],
   "source": [
    "print('Все слова с цифрами:', len(first))\n",
    "print('Все слова с символами пунктуации:', len(second))\n",
    "print('Осталось хэштегов и упоминаний:', len(fird))"
   ]
  },
  {
   "cell_type": "markdown",
   "metadata": {},
   "source": [
    "## Задание 7 (2 балла)\n",
    "\n",
    "В scikit-learn мы можем оценивать процесс подсчета матрицы через CountVectorizer. У CountVectorizer, как и у других наследников \\_VectorizerMixin, есть аргумент tokenizer и preprocessor. preprocessor применится в самом начале к каждой строке вашего датасета, tokenizer же должен принять строку и вернуть токены.\n",
    "Давайте напишем кастомный токенайзер, которые сделает все, что нам нужно: \n",
    "\n",
    "0. Приведет все буквы к нижнему регистру\n",
    "1. Разобьет текст на токены с помощью TweetTokenizer из пакета nltk\n",
    "2. Удалит все токены содержащие не латинские буквы, кроме смайликов (будем считать ими токены содержащие только пунктуацию и, как минимум, одну скобочку) и хэштегов, которые после начальной # содержат только латинские буквы.\n",
    "3. Удалит все токены, которые перечислены в nltk.corpus.stopwords.words('english')\n",
    "4. Проведет стемминг с помощью SnowballStemmer\n",
    "\n",
    "Продемонстрируйте работу вашей функции на первых десяти текстах в обучающей выборке."
   ]
  },
  {
   "cell_type": "code",
   "execution_count": 60,
   "metadata": {},
   "outputs": [
    {
     "name": "stderr",
     "output_type": "stream",
     "text": [
      "[nltk_data] Downloading package stopwords to\n",
      "[nltk_data]     C:\\Users\\Xom9K\\AppData\\Roaming\\nltk_data...\n",
      "[nltk_data]   Package stopwords is already up-to-date!\n"
     ]
    },
    {
     "data": {
      "text/plain": [
       "True"
      ]
     },
     "execution_count": 60,
     "metadata": {},
     "output_type": "execute_result"
    }
   ],
   "source": [
    "import nltk\n",
    "\n",
    "from nltk.corpus import stopwords\n",
    "from nltk.stem.snowball import SnowballStemmer\n",
    "\n",
    "nltk.download('stopwords')"
   ]
  },
  {
   "cell_type": "code",
   "execution_count": 81,
   "metadata": {},
   "outputs": [],
   "source": [
    "def tknz(text):\n",
    "    \n",
    "    for i in text:\n",
    "        i = i.lower()\n",
    "        \n",
    "    cnt_c = TweetTokenizer().tokenize(text)\n",
    "    vc = []\n",
    "    \n",
    "    for i in cnt_c:\n",
    "        if re.findall('[^a-z]', i) != []:\n",
    "            if ((re.findall('[^\\()!\"\\-;:,\\.\\?]', i) == []) and (re.findall('[\\()]+', i) != []) and (re.findall('[!\"\\-;:,\\.\\?]+', i) != [])) or (re.findall('#[a-z\\.]+', i) != []):\n",
    "                vc.append(i)\n",
    "        else:\n",
    "            vc.append(i)\n",
    "            \n",
    "        if (i in stopwords.words('english')) and (i in vc):\n",
    "            vc.remove(i)\n",
    "            \n",
    "    stmr = SnowballStemmer('english')\n",
    "    vc = [stmr.stem(i) for i in vc]\n",
    "    \n",
    "    return vc"
   ]
  },
  {
   "cell_type": "code",
   "execution_count": 88,
   "metadata": {},
   "outputs": [
    {
     "name": "stdout",
     "output_type": "stream",
     "text": [
      "10572\n"
     ]
    }
   ],
   "source": [
    "cnt_c = CountVectorizer(tokenizer = tknz)\n",
    "cnt_c.fit_transform(train['keyword_location_text'])\n",
    "\n",
    "print(len(list(cnt_vec_c.vocabulary_)))"
   ]
  },
  {
   "cell_type": "code",
   "execution_count": 90,
   "metadata": {
    "scrolled": true
   },
   "outputs": [
    {
     "name": "stdout",
     "output_type": "stream",
     "text": [
      "['bridg', 'ash', 'australia', 'collaps', 'trent', 'among', 'worst', 'histori', 'england', 'bundl', 'hail', 'carol', 'stream', 'illinoi', 'great', 'michigan', 'techniqu', 'camp', 'thank', '#goblu', '#wrestleon', 'polic', 'houston', 'cnn', 'tennesse', 'movi', 'theater', 'shoot', 'suspect', 'kill', 'riot', 'still', 'coupl', 'hour', 'left', 'class', 'wound', 'lake', 'highland', 'crack', 'path', 'wipe', 'morn', 'beach', 'run', 'surfac', 'elbow', 'right', 'knee', 'airplan', 'somewher', 'expert', 'franc', 'begin', 'examin', 'debri', 'found', 'reunion', 'island', 'french', 'air', 'accid', '#mlb', 'bloodi', 'isol', 'citi', 'world', 'perth', 'came', 'indian', 'fun', 'video', 'smirk', 'remorseless', 'pakistani', 'killer', 'show', 'boast', 'burn', 'except', 'idk', 'realli', 'destroy', 'ask', 'hous', 'maracay', 'nirgua', 'venezuela', 'offic', 'dead', 'exchang', 'shot', 'wreck', 'current', 'write', 'book', 'friggin', 'destiel', 'suck', 'read', 'vine', 'descript', 'mudslid', 'malibu', 'santaf', 'win', 'red', 'carpet', 'fundrais', 'oso', 'casualti', 'canadian', 'bread', 'honest', 'peopl', 'want', 'go', 'rampag', 'let', 'use', 'hand', 'feet', 'ambul', 'amsterdam', 'twelv', 'fear', 'helicopt', 'crash', 'electrocut', 'got', 'last', 'night', 'work', 'first', 'time', 'life', 'shit', 'weird', 'drown', 'older', 'nativ', 'australian', 'believ', 'ocean', 'creat', 'urin', 'angri', 'god', 'tri', 'volcano', 'west', 'coast', 'cali', 'usa', 'architect', 'behind', 'kany', 'attack', 'mumbai', 'india', 'shud', 'give', 'evid', 'share', 'terrorist', 'next', 'oth', 'contri', 'bodi', 'new', 'york', 'auth', 'loui', 'vuitton', 'brown', 'saumur', 'cross', 'shoulder', 'bag', 'monogram', 'full', 'annihil', 'higher', 'place', 'episod', 'trunk', 'freiza', 'cleanest', 'ever', 'nigga', 'merci', 'cyclon', 'hyderabad', 'ant', 'hudhud', 'chandrababu', 'vall', 'ne', 'ga', 'eye', 'akam', 'tokyo', 'ghoul', 'damn', 'dont', 'dare', 'watch', 'suicid', 'princip', 'zeron', 'christian', 'sure', 'bomb', 'employ', 'often', 'islam', 'group', 'demolish', 'think', 'also', 'becam', 'marqui', 'carlo', 'final', 'sad', 'inund', 'surf', 'hi', 'waimea', 'bay', 'like', 'surfer', 'collis', 'denver', 'colorado', 'motorcyclist', 'bicyclist', 'injur', 'broadway', 'flame', 'around', 'maryland', 'mansion', 'fire', 'caus', 'damag', 'plug', 'christma', 'tree', 'report', 'say', 'nyhc', 'ghostwrit', 'know', 'rihanna', 'live', 'door', 'build', 'blue', 'yes', 'one', 'loot', 'forest', 'nicola', 'valley', 'die', 'salmon', 'act', 'deni', 'climat', 'chang', 'nightmar', '#bcpoli', '#canpoli', '#vanpoli', '#shoe', 'asic', 'super', 'ronni', 'fieg', 'kith', 'white', 'x', 'gel', 'grey', 'sandstorm', 'airport', 'get', 'swallow', 'minut', 'uk', '#tweetlikeitsseptember11th2001', 'two', 'oil', 'ny', 'california', 'spill', 'might', 'larger', 'project', 'cartoon', 'bear', 'without', 'would', 'qave', 'knowlddg', 'toilet', 'paper', 'drought', 'miami', 'purpl', 'activist', 'thought', 'injuri', 'madison', 'wi', 'st', 'mo', 'knew', 'much', 'bite', 'us', 'influenc', 'shitti', 'staff', 'acquisit', 'landslid', 'austin', 'texa', 'enjoy', 'impend', 'todd', 'hehe', 'apocalyps', 'oregon', 'look', 'grizzli', 'peak', 'dystopian', 'deton', 'ignit', 'knock', 'standard', 'week', 'respond', 'dart', 'member', 'particip', 'four', 'day', 'intens', 'technic', 'larg', 'anim', 'militari', 'lot', 'tom', 'clanci', 'mysteri', 'novel', 'paperback', '#tomclanc', 'coventri', 'low', 'take', 'quiz', 'gonna', 'fight', 'taylor', 'soon', 'danger', 'dayton', 'wish', 'could', 'secret', 'front', 'good', 'flood', 'spot', 'combo', 'curv', 'cree', 'led', 'light', 'bar', 'offroad', 'fog', 'lamp', 'sever', 'weather', 'bulletin', 'typhoon', '#hannaph', 'soudelor', 'tropic', 'warn', 'issu', 'pm', 'fit', 'bmw', 'explos', 'london', 'unit', 'kingdom', 'chemic', 'park', 'western', 'germani', 'soul', 'food', 'sound', 'terror', 'truth', '#new', '#bbc', '#cnn', '#islam', '#truth', '#god', '#isi', '#terror', '#quran', '#li', 'sink', 'lost', 'alon', 'stone', 'carri', 'hostag', 'chicago', 'lebanon', 'iran', 'crisi', 'libya', 'pan', 'pa', 'pull', 'gun', 'man', 'appar', 'provoc', 'via', 'derail', 'minneapoli', 'mn', 'train', 'patna', 'news', 'far', 'express', 'panic', '#dream', '#magic', '#linden', 'method', 'lite', 'version', 'anxieti', 'cure', 'program', 'lind', 'rescu', 'jammu', 'kashmir', 'delhi', 'bovin', 'fredericksburg', 'virginia', 'serv', 'veteran', 'oif', 'oef', 'vet', 'physic', 'mani', 'invis', '#client', 'dust', 'learn', 'econom', 'south', 'dakota', 'storm', 'year', 'colleg', 'hubert', 'humphrey', 'cramer', 'word', 'stock', '#til_now', '#cnbc', 'tring', 'pretti', '#disast', '#gbbo', '#mudslid', 'obliter', 'canada', 'need', 'arcad', 'shooter', 'fix', 'cte', 'empti', 'even', 'buy', 'cod', 'titl', 'overpr', 'steam', 'bioterror', 'firepow', 'lab', 'electron', 'resourc', 'autom', 'infecti', 'diseas', 'u', 'explod', 'washington', 'c', 'kendal', 'jenner', 'nick', 'jona', 'date', 'quit', 'liter', 'alway', 'tell', 'mom', 'bring', 'hold', 'cat', 'heat', 'fort', 'worth', 'rt', 'homeless', 'vulner', 'north', 'wave', 'nuclear', 'co', '#solar', 'power', '#japanes', '#fukushima', 'reactor', 'energi', 'japan', 'temperatur', 'fuel', 'pool', 'arvada', 'least', 'taken', 'local', 'trauma', 'nashvill', 'tn', 'esteem', 'journalist', 'recal', 'tragic', 'effect', 'unaddress', '#childhood', '#trauma', 'panick', 'feel', 'result', 'back', 'alarm', 'calm', 'lightn', 'thunder', 'possibl', 'pinpoint', 'foothil', 'forecast', 'displac', 'township', 'apart', '#newyork', 'massacr', 'stay', 'tune', ';)', 'rise', 'coat', 'charleston', 'walter', 'scott', 'black', 'twitter', 'broad', 'well', 'death', 'gallifrey', 'horribl', 'trap', 'ship', 'risk', 'whiterun', 'skyrim', 'destruct', 'fine', 'windstorm', 'palm', 'counti', 'fl', 'realiti', 'fall', 'elev', 'track', '#paramed', '#em', 'rescuer', '#world', 'miss', 'migrant', 'med', 'search', 'survivor', 'boat', 'toronto', 'cool', 'wonder', 'find', 'leak', 'job', 'given', 'resqu', 'ladi', 'tote', 'handbag', 'women', 'faux', 'leather', 'fashion', 'purs', ':)', 'plan', 'littl', 'applaud', 'catastroph', 'buxton', 'venic', 'nottingham', 'invad', 'iraq', 'mistak', 'diplomaci', 'replac', 'constant', 'threat', 'war', 'israel', 'relat', 'isi', 'threaten', 'europ', 'livingston', 'mt', 'beyond', 'ador', 'hope', 'notic', 'devast', 'mount', 'vernon', 'come', 'close', '#momneedscoffe', '#asap', '#iwontmakeit', 'screwston', 'tx', 'redskin', 'wr', 'robert', 'hellfir', '#allah', 'describ', 'pile', '#wealth', '#forev', '#hellfir', 'surah', 'humaza', '#reflect', 'worldwid', 'love', 'way', 'written', 'includ', 'vantag', 'point', '#kindl', '#heartdiseas', 'servic', 'spend', 'half', 'budget', 'tragedi', '#sandrabland', 'forget', 'mayhem', 'detroit', 'rang', '#hungerarticl', 'nepal', 'rebuild', 'livelihood', 'quak', 'arsonist', 'serial', 'arrest', 'calif', 'hurrican', 'vineyard', 'true', 'battl', 'marvel', 'vs', 'dc', 'aveng', 'dublin', 'ireland', 'challeng', 'tough', 'enough', 'jaipur', 'goe', 'engin', 'wisconsin', 'regular', 'coffe', 'rockstar', 'today', 'tire', 'butt', 'extraordinair', 'violent', 'nws', 'wth', 'rotat', 'w', 'huge', 'massiv', 'tornado', 'san', 'diego', 'nda', 'abil', 'offer', 'futur', 'prolli', 'anyway', 'sir', 'make', 'made', 'said', 'lie', 'sinkhol', 'brooklyn', 'intersect', 'jacksonvill', 'famili', 'band', 'togeth', 'memori', 'seattl', 'wa', 'southbound', 'coal', 'creek', 'pkwi', 'block', 'center', 'lane', 'im', 'waco', 'felt', 'namekian', 'play', 'planet', 'acc', 'studi', 'conduct', 'skim', 'morethan', 'popul', '#kashmir', 'suffer', 'psychiatr', 'disord', '#kashmirconflict', 'flatten', 'bow', 'nh', 'idea', 'bleed', 'middl', 'eat', 'taki', 'rub', 'tear', 'quarantin', 'rome', 'top', 'link', 'content', 'polici', 'subreddit', 'ban', 'hailstorm', 'ig', '#abstorm', '#yyc', '#hail', '#hailstorm', '#haildamag', '#yycweath', '#calgari', '#captureyyc', '#alberta', '#sto', 'lima', 'britney', 'spear', 'vega', 'wait', 'tonight', '#pieceofm', 'bed', 'info', 'disco', 'best', 'song', 'gospel', 'acoust', 'portland', 'someth', 'mass', '#theatershoot', 'defend', 'murder', 'chose', 'testifi', 'phase', 'therefor', 'b', 'subject', 'juri', 'question', 'scream', 'brook', 'face', 'concert', 'straight', 'sunk', 'gaboron', 'botswana', 'yup', 'hazard', 'eversaf', 'emerg', 'auto', 'kit', 'unsaf', 'gridlock', 'siren', 'tampa', 'demo', 'voic', 'angel', 'call', 'beckon', 'void', 'aftershock', 'instagram', 'speak', 'someon', 'scuf', 'end', 'ps', 'irv', 'anti', 'rear', '#technolog', '#cool', 'techesback', '#tech', 'pandemonium', 'proud', '#copalibertador', 'argentinean', 'oklahoma', 'ok', 'evacu', 'downtown', 'hinton', 'research', 'collect', 'rule', 'divers', 'touch', 'anoth', 'jax', 'outlook', 'hwo', 'newport', 'big', 'pick', 'jacki', 'bristol', 'templ', 'messag', 'appreci', 'majesti', 'emperor', 'salman', 'unstopp', 'entertain', 'human', 'bajrangi', 'bhaijaan', 'everywher', 'crose', 'cr', 'armageddon', 'east', 'kilbrid', 'european', 'fitba', 'till', 'dog', 'surviv', 'ava', 'dream', 'saw', 'joy', 'brasil', 'sp', 'apollo', 'f', 'p', 'lubbock', 'weaken', 'move', 'se', 'toward', 'area', 'outflow', 'boundari', 'may', 'mph', 'gust', 'dmv', 'school', 'ksu', 'hit', 'foot', 'toe', 'blew', 'florida', 'iron', 'michel', 'bachmann', 'brought', 'ron', 'paul', 'everyon', 'hoax', 'calgari', 'alberta', 'readi', 'errrr', 'nope', '#notgoingoutinthat', '#tampa', 'freestyl', 'amali', 'arena', 'sep', 'ticket', 'longest', 'streak', 'sinc', 'dalla', 'ouvindo', 'peac', 'twice', 'famin', 'exampl', 'price', 'farmer', 'broke', 'mean', 'simpl', 'capit', 'fail', 'feed', 'raze', 'latest', 'home', 'northern', 'wildfir', 'dad', 'step', 'britain', 'ct', 'cascada', 'dancefloor', 'offici', 'traumatis', 'mine', 'data', 'renew', 'month', 'pikin', 'pomfret', 'provid', 'fallaci', 'roller', 'object', 'whether', '#robertcalifornia', '#thereisonlysex', 'suva', 'fiji', 'general', 'audienc', 'zenit', 'seen', 'aba', 'woman', 'deliv', 'babi', 'photo', 'experi', 'critic', 'pundit', 'grave', 'rail', 'photograph', 'british', 'mandat', 'palestin', 'trace', 'palestinian', 'natur', 'lui', 'water', 'slip', 'finger', 'disast', '#stloui', '#caraccidentlawy', 'speed', 'teen', 'car', 'tee', 'gold', 'tram', 'travel', 'powerlin', 'del', 'sol', 'greed', '#takecar', 'duncan', 'instead', 'dump', 'pleas', 'send', 'columbia', 'help', 'wide', 'poland', 'parti', 'prison', 'nazi', 'treblinka', 'rebel', 'seiz', 'small', 'arm', 'set', '#histori', 'collid', 'shall', 'rippl', 'tide', '#love', 'bangalor', 'game', 'googlemap', 'mashup', 'calcul', 'fresh', 'encount', 'pulwama', 'j', 'amp', 'k', 'other', 'hole', 'insid', 'slide', 'away', 'flash', 'writer', 'toni', 'nester', '#writingtip', 'china', 'net', 'confirm', 'weapon', 'kernow', 'slight', 'suh', 'wake', 'practic', '#finsup', 'devia', 'ler', '#wattys2015', '#wattpad', '#teenfict', 'name', 'countri', 'asid', 'africa', '#worldnew', 'bbc', 'hundr', 'atlanta', 'georgia', 'friend', 'blast', 'high', 'pancak', 'iowa', 'westero', 'sword', 'tape', 'finish', 'throne', 'stark', 'greyjoy', 'crush', 'kenni', 'holland', 'da', 'vida', 'mari', 'grace', 'lord', 'thee', 'bless', 'art', 'thou', 'fruit', 'thi', 'tweet', 'care', '#japan', 'problem', 'ignor', 'jose', 'timestack', 'entir', 'sunset', 'singl', 'mesmer', 'imag', '#handbag', '#fashion', '#style', 'vintag', 'coach', 'camera', 'bid', 'fatal', 'rajasthan', 'success', 'perman', 'failur', 'singapor', 'mood', 'af', 'istg', 'hijack', 'tension', 'bayelsa', 'patienc', 'jonathan', 'apc', 'pdp', 'blizzard', 'state', 'bruh', 'rubbl', 'steve', 'buscemi', 'firefightr', 'fame', 'workd', 'shift', 'diggin', 'thru', 'wtc', 'lookg', 'enugu', 'govern', 'illeg', 'structur', 'intern', 'confer', 'centr', 'app', 'seismic', 'explor', '#gabon', '#somalia', 'bin', 'laden', 'plane', 'avoid', 'microlight', 'land', 'runway', 'varanasi', 'boy', 'charg', 'manslaught', 'toddler', 'sh', 'ablaz', 'perfect', 'tracklist', 'leav', 'street', 'kentwood', 'mi', 'selmo', 'catch', 'wit', 'slaughter', 'monster', 'anyth', 'never', 'tunbridg', 'gone', 'relax', 'vigil', 'civil', 'liberti', '#nativehuman', '#myreligion', 'delug', 'busi', 'invoic', 'stand', 'colour', 'shape', 'ris', 'togth', 'pay', 'beat', 'motor', 'vehicl', 'n', 'fremont', 'av', 'sean', 'career', 'sg', 'knockout', 'eyewit', 'jersey', 'mini', 'poni', 'pack', 'punch', 'salem', 'fair', 'cbs', 'harm', 'massachusett', 'celebr', 'treat', 'ppl', 'il', 'green', 'line', 'resum', 'earlier', 'near', 'garfield', 'residu', 'delay', 'blaze', 'bright', 'fireman', 'birthday', '#wed', '#otrakansasc', 'wanna', 'niall', 'thx', 'scare', 'jinx', 'wild', 'control', 'part', 'troubl', 'outta', 'dirt', 'bike', 'american', 'wasteland', 'mv', 'vault', 'zarri', 'mechan', 'mod', 'pharaoh', 'blow', 'mention', 'lead', 'dramat', 'union', 'retard', 'justic', 'drain', 'gov', 'cop', 'vote', 'rs', 'teacher', 'twister', 'curl', 'grab', 'hes', 'cheeto', 'ye', 'thing', 'puls', 'rifl', 'los', 'film', 'itun', 'yay', 'awesom', 'town', 'heard', 'there', 'chrissi', 'adam', 'val', 'finn', '#emmerdal', 'dudetown', 'forc', 'must', 'nyc', 'reddit', 'offens', 'ceo', 'huffman', 'unveil', 'specif', 'crazi', 'threw', 'daughter', 'nude', 'sex', 'accord', 'charlott', 'protest', 'see', 'crap', 'happen', '#harleychick', '#pjnt', '#runbenrun', 'chanc', 'post', '#animalrescu', 'cleveland', 'ohio', 'wedneday', 'beauti', '#loveyouuuu', '#aintsheperti', 'quezon', 'philippin', 'hanna', 'thursday', 'august', 'nc', 'stun', 'probabl', 'aw', 'udhampur', 'milit', 'spos', '#hot', 'funtenna', 'comput', 'hat', '#prebreak', '#best', 'usual', 'newcastl', 'upon', 'tyne', 'theme', 'mad', 'avon', 'oh', 'five', 'ten', 'million', 'japanes', 'ee', 'phone', 'charger', 'regist', 'queensland', 'slipper', 'put', 'boot', 'teja', 'postapocalypticflimflam', 'prod', 'everyday', 'rap', 'shame', 'root', '#ptsdchat', 'sharkatraz', 'cleft', 'join', 'ventil', 'marin', 'bandoli', 'hot', 'dix', 'potus', '#strategicpati', 'strategi', '#genocid', 'refuge', 'idp', 'horror', 'etc', 'hype', 'cum', 'wood', 'cocki', 'urib', 'ball', 'strut', 'fuck', 'batter', 'box', 'eastlak', 'heiress', 'evad', 'lgl', 'effort', 'prosecut', 'blks', 'utopian', 'impuls', 'inevit', 'gulag', 'loud', 'ass', 'sunris', 'manor', 'nv', 'disneyland', 'taco', 'blood', 'pressur', 'roof', 'extra', 'las', 'ronda', 'rousey', 'floyd', 'money', '#box', 'hate', 'shatter', 'delus', 'hatchet', 'justifi', 'lethal', '#gunsens', 'harder', 'conflict', 'glorious', 'triumph', 'thoma', 'pain', 'doessnt', 'rejoic', 'calam', 'ect', 'punish', 'crayford', 'apaz', 'halfrica', 'ground', 'swam', 'bottom', 'hard', 'bounc', 'suffic', 'differ', 'dolla', 'wick', 'pic', 'old', 'pkk', 'bomber', 'turkey', 'armi', 'trench', 'releas', 'carolina', 'head', 'rather', 'talk', 'outburst', 'aggress', 'sux', 'abc', 'guy', 'bought', 'tuesday', 'yday', 'cos', 'ran', 'text', 'log', 'kutztown', 'kayla', '#ship', '#logist', 'enca', 'capsiz', 'onboard', 'blight', 'sydney', 'cycl', 'fan', 'sorri', 'athlet', '#dope', 'exacerb', 'monetari', 'reward', 'requir', '#latestnew', 'richmond', 'va', 'ap', 'pol', 'smash', 'kanto', 'zar', 'cring', 'marek', 'toss', 'crimin', 'lorri', 'buse', 'nigerian', 'wo', 'kyiv', 'ukrain', '#russia', 'crematoria', 'provok', 'outrag', 'soar', 'poverti', 'soviet', 'anyon', 'long', '#windows10', 'stretcher', 'ashevill', 'known', 'better', 'done', 'capoeira', 'vont', 'lago', 'rainstorm', 'wow', 'within', 'everi', 'pipelin', 'innerhalb', 'der', '#gamerg', 'attempt', 'communiti', 'industri', 'scam', 'sight', 'sarcast', 'drop', 'incid', 'inner', 'loop', 'exit', 'md', 'ave', 'silver', 'spring', 'ellensburg', 'spokan', 'backup', 'eastbound', 'visibl', 'due', 'mile', 'follow', 'cost', 'somethin', 'mortifi', 'went', 'heel', 'plant', 'fav', 'shoe', 'snowstorm', 'sassi', 'girl', 'hunk', 'strand', 'smoki', 'mountain', '#aom', '#ibooklov', '#bookboost', 'tsunami', 'godslov', '#thanku', 'sister', 'apocalypt', 'earthquak', 'properti', 'sat', 'vacant', 'saddlebrook', 'free', 'doc', 'newidea', '#write', 'chester', 'diamond', 'hobbi', 'lobbi', 'ama', 'haysvill', 'ks', 'hillari', 'meltdown', 'areva', 'kid', 'mind', 'ya', 'comeeee', 'bout', 'tho', 'connector', 'appl', 'ip', 'lighten', 'struck', 'backyard', 'hurt', 'bad', 'happili', 'marri', 'sprinter', 'automat', 'frontlin', 'choic', 'lez', 'compliant', 'ebay', 'okanagan', 'bc', '#makewaterwork', 'rate', 'max', '#westerncanadadrought', 'everyth', 'dark', 'refugio', 'costlier', 'bigger', 'charl', 'mental', 'prepar', 'seem', 'fantast', 'passamaquoddi', 'wtf', 'moment', 'yet', 'degre', 'houstn', 'lil', 'noth', 'hattera', 'agenc', 'seek', 'comment', 'permit', 'atom', 'struggl', 'past', 'anniversari', 'wrought', '#topnew', 'engulf', 'men', 'escap', 'canyon', 'crew', 'investig', 'francisco', 'ca', 'solano', 'skagg', 'rd', 'trfc', 'enrt', 'shock', ':(', 'lure', 'fanbas', 'wod', 'disappoint', 'hardcor', 'holli', 'treasur', 'reveal', 'desol', 'atl', 'fran', 'flight', 'squar', 'real', 'hhs', 'select', 'region', 'special', '#pathogen', 'treatment', '#bioterror', '#infecti', '#ebola', 'torrenti', 'rain', 'cut', 'obama', 'support', 'blown', 'yeah', 'alreadi', 'spammer', 'second', 'minecraft', 'lucki', 'bob', 'wither', 'showcas', 'popularmmo', 'messeng', 'clutch', 'design', 'qualit', 'spanish', 'sweet', 'ritual', 'westwestwestwestwestwestwest', 'russia', 'stood', 'cold', 'nuke', 'superior', 'uncondit', 'surrend', 'putin', 'match', 'atx', 'whoever', 'direct', 'nicki', 'minaj', 'recognit', 'gape', 'open', 'amazon', 'seller', 'propagandist', 'keep', '#amazon', '#foot', '#adjust', '#shape', 'shaper', 'width', 'extend', 'adjust', '#rain', '#flood', '#florida', '#tampabay', 'count', 'recov', '#date', 'total', 'crime', 'becom', 'mexico', 'rout', 'yo', 'forreal', 'action', 'incas', 'donald', 'trump', 'presid', 'whipe', 'clip', 'coercion', 'weak', 'ensur', 'listen', '#soundcloud', 'ge', 'stack', 'appli', 'purgatori', 'clue', 'click', 'nout', 'rubbin', 'salt', 'islip', 'truli', 'compound', 'level', 'behead', 'croatian', 'tlvface', '#auspol', 'order', 'lift', 'roosevelt', '#wildfir', 'komo', 'japon', 'gigawatt', 'instal', 'solar', 'capac', 'gwatt', 'equal', 'loss', 'doubl', 'rage', 'madhya', 'pradesh', 'villag', 'youth', 'save', 'smile', 'cake', 'hah', 'earth', 'omega', 'religion', 'epic', 'kyle', 'rayner', 'stori', 'mayb', 'muzzi', 'spontan', 'combust', 'allah', 'payback', 'yogya', 'berhati', 'nyaman', 'ush', 'waterloo', 'ont', 'zehr', 'decid', 'brizzl', 'intend', 'wind', 'signal', 'allow', 'servicin', 'section', 'lurkin', 'radiat', 'els', 'document', 'procedur', '#radiat', '#emerg', '#procedur', 'iphon', 'giant', 'sms', 'pin', 'outbreak', 'sue', 'legionnair', 'affect', 'edinburgh', 'space', 'occur', 'star', 'involv', 'fleet', 'stop', 'bask', 'ridg', 'nj', 'int', 'saturday', 'detail', 'diamondvill', 'happi', 'bn', 'jennif', 'aniston', 'sa', '#insubcontin', '#round2', '#yycstorm', 'ontario', '#hwy401', 'eb', 'hwi', '#cambridg', '#opp', 'enrout', 'ag', 'port', 'matilda', 'warden', 'gwersyllt', 'wale', 'anymor', 'emot', '#summerf', 'bueno', 'argentina', 'candylit', 'imagin', 'sarumi', 'zombi', 'heart', 'convers', 'pvris', 'elchilicitanierravers', '#nowplay', 'strike', 'de', 'snow', 'patrol', 'sun', 'thunderstorm', 'russellvill', 'ar', 'clarksvill', 'dardanell', 'cdt', 'lava', 'serious', 'amaz', 'fond', 'cape', 'arriv', 'sicili', 'fwd', 'jump', 'cloth', 'korean', 'perform', 'olymp', 'santo', 'align', 'oldenburg', 'dfr', 'dnbheaven', '#drum', 'bass', '#heavi', '#nasti', 'e', 'l', 'hear', 'walk', 'concord', 'pisgah', 'nation', 'grow', 'acr', 'rp', 'ot', 'honey', 'ahead', 'raleigh', 'transport', 'panel', 'pileup', 'wheeler', 'wy', '#amssumm', 'intensifi', 'toll', 'surg', 'oup', 'palma', 'isla', 'balear', 'nato', 'taliban', 'trail', 'colin', 'haunt', 'drawn', 'cliff', 'decent', 'biller', 'promot', 'manag', 'bill', '#humbl', 'columbus', 'refus', 'reduc', 'shovel', 'upheav', 'moncton', 'brunswick', 'gas', 'saint', 'john', '#nb', 'chart', 'music', 'dubai', 'arab', 'emir', 'ironi', 'temper', 'glass', 'screen', 'protector', 'blackberri', 'intermountain', 'webinar', 'mitig', 'et', 'char', 'remain', 'manchest', 'rip', 'neighbor', 'wellington', 'address', 'spam', 'meant', 'des', 'moin', 'annual', 'footbal', 'media', 'hoop', 'recruit', 'nugget', 'ancient', 'mayan', 'tablet', 'hieroglyph', 'honor', 'lowli', 'king', 'belgium', 'aquarium', 'ornament', 'sail', 'fish', 'tank', 'cave', 'decor', 'photoset', 'littlebitofbass', 'silinski', 'ed', 'sheeran', 'hobbit', 'smaug', 'german', 'premier', 'sky', 'darken', 'ungod', 'bolt', 'vancouv', 'uber', 'drunk', 'drive', 'independ', 'hondura', 'op', 'gameplay', 'hunt', 'snd', 'competit', 'multiplay', '):', 'earn', 'satoshi', '#robotcoingam', '#bitcoin', '#freebitcoin', 'cafe', 'acid', '#india', 'trooper', 'pop', 'vinyl', 'bobbl', 'figur', 'funko', 'hibern', 'pbx', 'irrespect', 'pitch', 'crbzfz', 'america', 'plagu', '#farrakhan', '#quot', 'held', 'louisiana', 'sunday', 'seasonfrom', 'onshit', 'complet', 'zone', '#beyhiv', 'jakarta', '#pantherattack', 'phoenix', 'arizona', 'mistaken', 'sit', 'smart', 'cataclysm', 'event', 'reator', 'melt', 'dozen', 'saudi', 'mosqu', 'arabia', 'start', 'experienc', 'silesia', 'spec', 'lore', 'sworn', 'proven', 'kabul', 'tuebingen', 'innsbruck', 'uncl', 'afghanistan', 'children', 'ugli', 'linton', 'hall', 'sacramento', 'nice', 'drill', 'agw', 'denial', 'perenjori', 'panoram', 'nah', 'foreskin', 'dismantl', 'smoke', 'worldwi', 'toooooo', 'lmao', 'number', 'bck', 'sens', 'lol', 'hearth', 'bee', 'blog', 'buc', 'norf', 'gon', 'publish', 'dancer', 'caribbean', 'pirat', 'shipwreck', 'margarita', 'engl', 'henri', 'holt', 'byr', 'financi', 'view', 'plain', 'univers', 'burnt', 'mpls', 'loyalti', 'mission', 'kick', 'nobleman', 'elven', 'weirdo', 'pennsylvania', 'turkish', 'troop', 'kurdish', 'african', 'jewish', 'agre', 'tht', 'bulli', 'nd', 'killin', 'father', 'unavoid', 'consequ', 'social', 'fakefam', 'correct', 'tent', 'espoo', 'finland', 'usatoday', '#frontpag', 'sanction', '#rickperri', 'foxnew', 'ah', 'rememb', 'dunda', 'jay', 'rock', 'roger', 'r', '#bluejay', 'bell', 'mosebi', 'barfield', 'pedophil', 'republican', 'style', 'undergroundbestsel', 'stronger', 'trial', 'pass', '#thomassmonson', '#lds', '#mormon', 'victoria', 'decis', 'kindof', 'odd', 'restrospect', 'hiroshima', 'nagasaki', 'alleg', '#uswarcrim', 'nairobi', 'kamayani', 'janata', 'ex', 'gratia', 'announc', 'mediterranean', 'carryi', 'governor', 'weigh', 'parol', 'bus', 'tora', 'freeway', 'til', 'audi', 'associ', 'extern', 'clad', 'cbplawyer', 'doco', 'setanta', 'sport', 'freeview', 'largest', 'presenc', 'soccer', 'prevent', 'commod', '#busi', 'sodak', 'check', 'reshap', '#scichat', '#scienc', '#hostag', '#libya', '#africa', '#ap', '#ts', '#nri', '#trs', '#tdp', '#bjp', 'pray', 'dorset', 'absolut', 'actor', '#rossbarton', 'beirut', 'poor', 'sod', 'amman', 'divert', 'ben', 'gurion', 'ruin', 'yule', '#mta', '#sorrybutitstru', 'halifax', 'polar', 'articl', 'coconut', 'porcupin', '#listen', '#live', 'lancast', 'domest', 'wonderland', 'nigeria', 'accus', 'nema', 'steal', 'relief', 'materi', 'wom', 'wanderlust', 'troy', 'rio', 'janeiro', 'skywar', 'que', 'hack', 'flechada', 'sinistra', 'baton', 'roug', 'carl', 'everest', 'rob', 'cobe', 'whitt', 'frost', 'leo', 'snuff', 'drink', 'beer', 'someday', 'arsenal', 'warcraft', 'inspir', 'mode', 'hero', 'tracksid', 'crackdown', 'multipl', 'server', 'whole', '#cop', 'telangana', 'maratha', 'raider', 'scorch', 'punjab', 'aid', 'bengali', 'harbor', 'copenhagen', 'denmark', 'render', 'kitten', 'dude', 'antioch', 'demolit', 'derbi', 'none', 'souda', 'sonia', '#kneelbot', 'merica', 'sometim', 'sorrow', 'stage', 'redempt', 'david', 'platt', 'ij', 'insur', 'seven', 'blitz', 'travers', 'disrupt', 'brief', 'seminar', 'summer', 'tra', 'three', 'isra', 'soldier', 'bank', 'haaretz', 'hilton', 'sc', 'gd', 'wrked', 'almost', 'reed', 'thailand', 'oppa', 'oop', 'haaaaaa', 'accra', 'ghana', 'market', 'gem', '#earthquak', 'hawaii', '#iphon', 'user', 'download', 'inform', 'smell', 'bon', 'ahh', 'forgot', 'headphon', 'suppos', 'ayhhhhhdjjfjrjjrdjjek', 'motogp', 'indianapoli', 'espargaro', 'layout', 'worri', 'daili', 'horoscop', 'relationship', 'cairo', 'egypt', '#tattoo', 'donat', 'receiv', 'hamilton', 'woo', 'hoo', 'kaylen', 'clear', 'outsid', 'narnia', 'ad', 'playlist', 'joke', 'inning', '#cubstalk', 'fedex', 'longer', 'potenti', 'pathogen', 'break', 'homebuy', 'miscalcul', 'thousand', 'mwjcdk', 'soooo', 'pump', '#manchest', 'sea', 'ph', 'piec', 'charcoal', 'handl', 'stress', 'press', 'side', 'cor', '#cowboy', 'georg', 'woe', 'took', 'claiborn', 'round', 'stick', 'brother', 'enter', 'academia', 'liveleakfun', 'swift', 'programm', '(:', 'chicagorobotz', 'jen', 'vero', 'hug', 'mr', 'fluffi', 'schedul', 'quito', 'ecuador', 'legaci', 'erupt', 'vela', 'short', 'notexplain', 'infam', 'cooper', 'rush', 'rest', 'roster', 'stout', 'realis', 'westchest', 'amend', 'subconsci', 'morioh', 'queen', 'rochest', 'student', 'throw', 'dungeon', 'stupid', 'prepared', 'weeklong', 'biolog', 'radioact', 'respons', 'tag', 'hashtag', 'whao', 'haddonfield', 'road', 'pond', 'oxford', 'album', 'upset', 'deserv', 'rli', 'mp', 'recount', 'plung', 'empir', 'along', 'oper', 'signific', 'humor', 'fart', 'test', 'interest', 'congress', 'birth', 'blame', 'ss', 'ima', 'nobodi', 'solv', 'em', 'divis', 'broadview', 'height', 'hey', 'concept', 'wander', 'whenev', 'whirlwind', 'internet', 'richard', 'return', 'avalanch', 'chip', 'saver', 'chevi', 'taho', 'blazer', 'bail', '#shoot', 'fife', '#polic', 'aug', 'bedroom', 'abl', 'orlando', 'wftv', 'psychologist', 'child', 'porn', 'belbroughton', '#aerospac', '#exec', 'aircraft', 'wing', 'th', 'silenc', 'safer', 'violenc', 'cannoli', 'eater', 'psa', 'excit', 'worn', 'ab', 'precious', 'oliv', 'dougkessl', '#b2b', '#b2bagenc', 'slideshar', '#contentmarket', 'orlean', 'reach', 'load', 'spin', 'neither', '#hit', '#load', 'sleep', 'ago', 'opinion', 'nagaski', 'forgiven', 'alli', 'self', 'bloomington', 'can', 'kaldi', '#photo', 'slosher', 'goat', 'freak', 'splatdown', 'switch', 'splatl', 'sensor', 'acdelco', 'gm', 'origin', 'equip', 'roanok', 'wsls', '#montgomeri', 'tip', 'childcar', 'less', 'expens', 'kensington', 'seemeth', 'unto', 'thereof', 'unr', 'continu', 'weston', 'custer', 'river', 'pennington', 'sd', 'midwest', '#arwx', 'lynnfield', 'weekend', 'dtn', 'brazil', 'oi', 'epicentr', 'studio', 'nowher', 'communic', 'portug', 'rider', 'lowestoft', 'funni', 'falmer', 'bethlehem', 'stratford', 'septemb', 'bridgeport', 'invas', 'burglar', 'sikh', 'key', '#debatequestionswewanttohear', 'will', 'ur', 'son', 'motiv', 'regret', 'matthew', 'donnelli', '#greec', 'tax', 'revenu', 'debt', '#bailout', 'chill', 'thibodaux', 'la', 'keighley', 'kurt', 'zouma', 'pg', 'chillin', 'currensi', 'talkin', 'anybodi', 'flag', 'wont', 'misl', 'quantico', 'base', 'cougar', 'uniform', 'aim', 'taiwan', 'howl', 'secur', 'site', '#everydaynaija', 'kaduna', 'valu', 'cash', 'sourc', 'cours', '#cours', 'kia', 'claimin', 'sent', 'catech', 'confidenti', 'respect', 'len', 'rig', 'sick', 'especi', 'client', 'wart', 'background', 'floatin', '#bomb', 'campus', 'electr', 'brew', 'whistleblow', 'lawsuit', 'supervisor', '#pbban', 'temporari', 'avysss', 'fast', 'xp', 'reason', 'about', 'fool', 'coverag', 'dat', 'squad', '#personalinjuri', 'advic', '#solicitor', '#otleyhour', 'bluedio', 'turbin', 'h', 'bluetooth', 'wireless', 'stereo', 'headset', 'blk', 'kolkata', 'cautious', 'dorman', 'zealand', 'gns', 'unnecessari', 'strengthen', 'legisl', 'lizard', 'wizard', '#lwb', 'italian', 'alp', 'reuter', 'willingheart', 'rpn', 'former', 'execut', 'fukushima', 'vcu', 'realiz', 'normal', 'driver', 'safeti', 'traffic', 'willi', 'foreman', '#eyewit', 'activ', 'embrac', '#uk', 'impact', '#ugc', '#intern', 'medicin', 'lennox', 'hill', 'hospit', '#drjustinmazur', 'kenya', 'colnharun', 'unconfirm', 'bang', 'nearbi', 'appear', 'melbourn', 'meat', 'cord', 'rocket', 'galaxi', 'dreami', 'ear', 'slowli', 'disea', 'drake', 'googl', 'wall', 'riooooo', 'beast', '#squad', '#revitup', '#pizzarev', 'mirror', 'reflect', 'privat', 'desir', 'scienc', 'compani', '#savebe', 'updat', 'metro', 'terribl', 'hell', 'shah', 'alam', 'malaysia', 'ala', 'late', 'arson', 'caught', 'tube', 'chao', 'accept', 'prayer', 'cousin', 'surpris', 'global', 'precipit', 'measur', 'satellit', 'captur', 'steven', 'yeun', 'amc', 'gentl', 'dab', 'cotton', 'rag', 'across', 'wors', 'glenn', 'yosemit', 'sam', 'drumpf', 'ill', 'rabbit', 'skin', 'huh', 'therapi', '#gravitychat', 'helen', 'mascara', 'smear', 'horrif', 'extens', 'bath', 'tub', 'collud', 'wht', 'org', 'idi', 'id', 'peshawar', 'ik', 'troll', 'rival', 'abus', 'looser', 'twin', 'prophet', 'chariti', '#irand', 'cover', 'broken', 'agreement', 'zonewolf', 'youtub', '#southampton', 'actual', 'exist', 'scientist', '#sun', '#earth', 'began', 'pov', 'footag', 'wreckag', 'vol', 'deejayempiresound', '#np', 'angelriveralib', '#snowden', 'law', 'katrina', 'snowden', 'forgotten', 'aesop', '#orchardalley', '#les', '#nyc', 'manufactur', 'repress', '#garden', 'yokohama', 'kakeru', 'teduka', 'bfore', 'bomd', 'curfew', 'pon', 'di', 'gulli', 'rite', 'tlk', 'widout', 'nuh', 'aka', 'fi', 'itz', 'rubberi', 'dem', 'knw', 'kingston', 'jamaica', 'entiti', 'montego', 'sewer', '#tvjnew', 'lulgzimbestpict', 'beck', 'arnley', 'podcast', '#ihave44episodesofgg', '#nojok', 'gander', '#tna', 'appeas', 'morbid', 'curios', '#destinationimpact', 'though', 'hahahah', 'uplift', 'spirit', 'anchor', 'paradis', '#growingupincolorado', 'tidal', 'tin', 'tesco', 'prompt', 'complaint', '#pet', '#dog', '#anim', '#puppi', 'tomorrow', 'truck', 'roll', 'hanov', 'fyi', 'cad', 'nhs', 'piner', 'horndal', 'dr', 'glasgow', 'scotland', 'case', 'utter', 'embarrass', 'indi', '#okwx', 'sf', 'asian', 'shelter', 'al', 'bec', 'grenad', 'imposs', 'hoe', 'kansa', 'bug', 'fulli', 'patch', 'os', 'exploit', 'mac', 'fairfax', 'firefight', 'admin', 'amid', 'probe', 'facebook', 'dept', 'rogersvill', 'remind', 'peasant', 'redistribut', 'wealth', 'record', 'major', 'nine', 'pioneer', 'ky', 'card', 'dispatch', 'boon', 'seat', 'az', 'constitut', 'epidem', '#plagu', '#health', '#publichealth', 'laredo', 'petit', 'remast', 'frame', 'selfi', 'cell', 'shop', 'kou', 'ayr', 'difficult', 'esp', 'dispers', 'boyd', 'realize', 'attent', 'span', 'paint', 'ac', 'faster', 'overtook', 'tru', 'luv', 'ixwin', 'incred', 'danc', 'vermont', 'retir', 'instruct', '#bookmobil', '#librari', '#read', 'tunisia', 'march', 'museum', 'bengal', 'cm', 'mamata', 'banerje', 'dvc', 'bjp', 'claim', 'jazz', 'rave', 'wed', 'frederick', 'meal', 'cook', 'team', 'hong', 'kong', 'g', 'mark', '#hiroshima', 'cup', 'tea', 'dunk', 'greater', 'stu', 'beetroot', 'swear', 'uncov', 'slumber', 'connect', 'indiegogo', 'campaign', 'launch', 'onlin', '#refuge', 'atlant', 'ia', 'ffa', 'foodstand', 'fairground', 'uae', '#forb', '#europ', 'splatoon', 'default', 'splattershot', 'jr', 'editor', 'chief', '#ramag', '#model', '#mayhem', 'emmerdal', 'attract', 'ross', 'parent', 'orang', 'public', 'thur', 'ctr', 'goshen', 'beforeitsnew', 'crater', 'eagl', 'bro', 'lethbridg', 'prioriti', 'mdt', '#roimentor', '#yycwalk', 'goa', 'estim', 'wednesday', 'disclos', '#osi2016', 'bronx', 'tripl', 'digit', 'oshawa', '#wisdomw', 'bonus', 'habit', 'improv', '#lifehack', 'btwn', 'celesti', 'separ', 'trajectori', 'intertwin', 'caitlin', 'kiernan', 'centiped', 'sign', 'limit', 'duval', 'wv', 'unhappi', 'bigamist', 'wife', 'pregnant', 'poll', 'xii', 'nightmarish', 'brutal', 'ritualist', 'club', 'oyster', 'shell', 'andrew', 'carnegi', 'asleep', 'plate', 'stadium', '#vivaargentina', 'hertfordshir', 'eventu', 'protestor', 'skyscrap', 'resid', 'central', 'option', '#ocnj', 'potter', 'citadel', 'oldtown', 'either', 'displeas', 'congrat', '#reggaeboyz', 'lockout', 'progress', 'rene', 'jacinta', 'fallen', 'edit', 'mar', 'kitchen', 'def', 'plus', 'conclus', 'stuff', 'antoin', 'fisher', 'kno', 'beam', 'rea', 'vibez', 'radio', '#listenl', 'cork', 'haha', 'instinct', 'scratch', 'matrix', 'airlin', 'belgrad', 'feminist', 'grill', 'prefer', 'fem', '#art', 'wacko', '#michelebachman', 'predict', 'firey', 'inferno', 'cant', '#globalwarm', 'hello', 'condol', 'vietnam', 'behalf', 'cuban', 'richland', 'sevenfigz', 'cc', 'leadership', 'bathroom', 'asb', '#semasirtalk', 'hadnt', '#butgod', 'told', 'pennliv', 'mechanicsburg', 'indiana', 'triumphant', 'egg', 'easi', 'yolk', 'bake', 'hilari', 'environ', 'mauritius', 'civilian', 'gaza', 'exercis', 'greec', '#pt', 'target', 'muslim', 'scholar', 'imprison', 'expect', 'alloy', 'dive', '#truck', 'avenu', 'screech', 'accompani', 'scissor', 'ktfounder', '#remymarcel', '#frofrofro', 'adopt', 'overlook', 'whyor', 'santa', 'ana', 'raid', 'holist', 'pot', 'dispensari', '#smartnew', '#oklahoma', '#thunder', 'durant', 'nba', 'adida', 'swingman', 'retail', '#nba', '#durant', 'birmingham', 'rare', 'occas', 'accustom', 'alcohol', 'billionair', 'enemi', 'destini', 'heaven', 'react', 'jocelyn', 'gargoyl', 'hoof', 'coil', 'remov', 'softenza', 'anthelmint', 'draw', 'spi', 'church', 'mess', 'disagr', 'occurr', 'whoa', 'papa', 'dk', 'guid', 'auction', 'plano', 'prime', 'quick', 'takeaway', 'magnific', 'wcw', 'tha', 'bitch', 'asshol', 'breakfast', 'millennium', 'hotel', 'plaza', 'lunch', 'santiago', 'bernabeau', 'shut', 'mthe', 'premis', 'oc', 'jame', 'downstair', 'rhiannon', 'hungov', 'uhmmmm', 'airdri', 'reddeer', 'cannot', '#sirmixalot', '#bluebel', 'onion', 'purchas', '#nashvilletraff', 'slower', 'gear', '#vancouv', '#drought', '#deadgrassandflow', 'warrington', 'certain', '#hs2', 'astroturf', 'crumbl', 'favorit', 'paramed', 'hottest', 'youngin', 'boko', 'haram', 'sentinel', 'florid', '#secur', 'ashland', 'ember', 'awar', 'polit', 'dappar', 'mohali', '#msgdoing111welfarework', 'welfar', 'ke', 'appx', 'har', 'victim', 'ki', 'liy', 'tyar', 'hai', 'sharjah', 'abudhabi', 'heal', 'reviv', 'charact', 'frickin', 'humid', 'invzic', 'nevada', 'caesar', 'wear', 'pajama', 'greedi', 'bastard', 'creativ', 'censorship', 'flew', 'ii', 'letter', 'xbox', 'smh', 'ebola', 'alabama', 'triskelion', 'partial', 'friday', 'floor', 'waist', 'demon', 'kept', '#goodby', 'campina', '#mtvsummerstar', '#videoveranomtv', '#mtvhottest', 'lana', 'rey', 'saniti', 'score', 'sfa', '#pandemonium', 'rhett', 'windi', 'yesterday', 'hamayun', 'shahe', 'pilot', 'heli', 'mansehra', 'conveni', 'zionist', 'rever', 'honour', 'baruch', 'goldstein', 'browni', 'leisur', 'tab', 'crane', 'restor', 'dutch', 'alphen', 'aan', 'den', 'rijn', 'boss', 'welcom', 'vail', 'mock', '#vail', 'preview', 'chat', 'health', 'superbug', 'biolab', 'biosurveil', 'homeland', 'wire', 'prov', 'mesa', 'bound', 'salado', 'crackin', 'piss', 'donni', 'nut', 'flavor', 'boom', 'ice', 'cream', 'buckl', 'casual', 'stylish', 'pocket', 'shadow', 'aliv', '#boy', '#mix', 'ultim', '#prepared', 'librari', 'dri', '#weather', '#cawx', 'bukittinggi', 'sumatera', 'barat', 'virgin', 'galact', 'spaceship', 'pontefract', 'request', 'sampl', 'nw', 'plenti', 'ipa', 'squeez', 'radler', 'pueblo', 'ferrel', 'zach', 'galifianaki', 'commit', 'comic', 'farc', 'cuernavaca', 'morelo', 'xico', 'landi', '#peritoengrafoscopia', 'barn', 'moon', 'mizuta', '#stormchas', 'ef', 'el', 'reno', 'esh', 'denali', 'wolf', 'declin', 'reinstat', 'buffer', '#protectdenaliwolv', 'sand', 'sarah', 'palin', 'parenthood', 'minor', 'canal', '#tookitlikeaman', '#lovemydentist', '#sore', 'stat', 'shia', 'cleric', 'militia', 'withdraw', 'fightin', 'uve', 'pre', 'foster', 'temptat', 'kirsten', 'gillibrand', 'palo', 'alto', 'terr', 'haut', 'jar', 'peanut', 'butter', 'solut', 'rid', 'browser', 'mfs', 'echo', 'tv', 'race', 'evergreen', 'infowar', 'grabber', 'demand', '#nwo', 'pakistan', 'argus', 'drone', 'drove', 'clinton', 'lcc', '#syria', 'benzema', 'increas', 'frequent', '#wmata', 'smithsonian', 'buri', 'eldoret', '#kisii', 'kisii', 'plot', '#countynew', 'discoveri', '#video', 'gotham', 'beaten', 'ra', 'ghul', 'barber', 'hair', 'atmospher', 'lmfao', 'hhahaha', 'garbag', 'boyfriend', '#twisterlovesshania', 'penn', 'farm', 'boston', 'hq', 'komen', 'myanmar', 'shelbi', 'ori', 'bind', 'ep', 'friendswood', 'twia', 'board', 'approv', 'percent', 'hike', 'director', 'v', 'brackley', 'pe', '#legionstrackandfield', 'megadeth', 'symphoni', 'cri', 'faan', 'owner', 'abandon', 'ultimatum', 'memphi', 'interview', 'matter', 'ottawa', 'zayn', 'bunch', 'kind', 'fkn', 'asswip', 'karma', 'moral', 'system', 'reject', 'innoc', 'explicit', 'endors', 'behavior', 'follownflnew', 'michael', 'devalu', 'fantasi', '#nfl', '#playoff', '#wolv', 'wolv', 'plummet', '#savedenaliwolv', 'tweetstorm', 'anchorag', 'ak', '#anchorag', '#job', 'nurs', 'practition', 'healthcar', 'counselor', 'wasilla', 'pensacola', 'senat', 'concern', 'bp', 'settlement', 'conclud', 'harcourt', 'goodluck', 'dame', 'meet', '#welovela', '#nhlduck', 'defens', '#sportsroadhous', 'coleslaw', '#wreck', 'huntsvill', 'radar', 'widespread', 'shower', '#hunwx', 'repli', 'gpm', 'bullsey', 'mix', 'flat', 'linerless', 'bottl', 'cap', 'choos', '#direction', 'setsuko', 'thurlow', 'langley', '#filipino', 'uh', 'dick', 'outlet', 'outdoor', 'featur', '#eventspalmbeach', 'waterford', 'rick', 'morti', 'clean', 'laundri', 'hamburg', 'midfield', 'edm', 'soni', 'soner', 'spent', 'syrian', 'deadliest', 'border', 'trafford', 'odeon', 'cinema', 'fals', 'tenni', 'champ', 'svetlana', 'kuznetsova', 'cite', 'lower', 'leg', 'espn', 'sharpli', 'susi', 'stlnd', 'madara', 'strawberri', 'shitsickl', 'slam', 'wrong', 'retain', 'daddi', 'kink', 'sammi', 'forev', 'kfc', 'fam', 'mike', 'magner', 'discuss', 'trust', 'betray', '#militari', '#veteran', '#environ', '#win', 'butterlondon', 'lip', 'crayon', '#bblogger', 'laugh', 'chelsea', 'talisman', 'eden', 'keen', 'cristiano', 'ronaldo', 'lionel', 'messi', 'mipasho', 'lowkey', 'kirkwal', 'deep', 'hahahaha', 'lolol', 'oslo', 'norway', 'pamela', 'geller', 'odai', 'bucharest', 'romania', 'hungri', 'hampshir', 'gotten', 'wedn', 'powder', 'introduct', 'theolog', 'aesthet', 'english', 'vietnames', 'fortaleza', 'ce', 'fahlo', '#wcw', 'justin', 'bieber', 'terrifi', 'coaster', 'disclaim', 'cochran', '#cochran', 'enact', 'municip', 'flg', 'okay', 'freebesieg', 'martinmj', 'yougov', '#tori', 'chronicl', 'sunray', 'hairi', 'spiderweb', 'selena', 'demi', 'stan', 'sold', 'copi', 'dal', 'rb', 'lanc', 'dunbar', 'ankl', 'list', 'modifi', '#truelov', '#romanc', 'lith', '#voodoo', '#seduct', '#astrolog', '#rtrrt', '#lotz', '#apocalyps', '#armageddon', 'petersburgfl', 'aisl', 'dedic', 'serbian', 'spark', 'bargain', 'extrem', 'volga', 'circuit', 'glad', 'answer', 'chicora', 'oakland', 'lose', 'tardi', 'pc', 'account', 'buck', 'nsf', 'forrest', 'xxx', 'corp', 'breach', 'detain', 'interrog', 'facil', 'inexpress', 'eight', 'adult', 'yugoslav', 'republ', 'macedonia', 'cuf', 'milwauke', 'gay', 'admit', 'scheme', '#lgbt', 'paterson', 'unrecogn', 'morganvill', 'pisc', 'tightrop', 'forward', 'downright', 'lavenderpoetrycaf', 'encod', 'sensori', 'cognit', 'sexual', 'hysteria', 'afflict', 'primarili', 'gta', 'sticki', '#nashsnewvideo', 'garden', 'grove', 'exofficio', 'boxer', 'tf', '#catfishmtv', 'sweat', 'bullet', 'jihad', 'mall', 'islamaphob', 'chicken', 'microwav', 'intead', 'woke', 'raquel', 'attitud', '#oil', '#invest', '#money', '#trade', '#forex', '#gold', '#silver', 'pretend', '#global', '#ayekoradio', 'brasswork', 'shaken', '#radio', '#netlabel', '#electronicmus', '#ccmusic', 'cyclist', 'harlem', 'stoni', 'jackson', 'felon', 'thus', 'satan', 'walton', 'urgent', '#wildhors', 'protect', '#sbnation', '#flame', 'penalti', 'careless', 'campfir', 'primum', 'non', 'nocer', 'edmund', 'fitzgerald', 'karachi', 'horrend', 'alright', 'willian', 'easili', '#yugvani', 'reap', 'benefit', 'netherland', 'syria', 'targ', 'kurd', 'petersburg', 'spong', 'dock', 'wash', 'beit', 'scottsdal', 'stamp', 'assist', 'retool', 'retire', 'handicap', '#nomorehandout', 'sneak', 'spoil', 'humbl', 'deconstruct', 'kerri', 'sackvill', '#tms7', 'wb', 'heavi', 'compens', 'palinfoen', '#palestin', 'privileg', 'chop', 'rooftop', 'fox', 'scranton', 'tmid', 'nikki', 'scari', 'falcon', 'anywher', 'construct', 'fukuoka', '#check', '#follow', 'bannist', 'kenosha', 'leader', 'sympathi', '#reno', 'trailer', 'blighti', 'loo', 'what', 'yr', '#landslid', 'bush', 'dilawri', '#bodi', '#shop', 'loan', 'oneself', 'foreclos', 'tejc', 'trad', 'author', 'earli', 'renfrew', 'utica', 'pleasant', 'paw', 'averag', 'size', 'grass', 'perak', 'horizon', 'utp', 'hipster', 'unfortun', 'unbeliev', 'insan', '#man', '#airport', '#airplan', '#aircraft', '#aeroplan', '#runway', '#accid', '#freaki', 'mid', 'guess', 'darwin', 'philadelphia', '#onthisday', 'mayflow', 'brian', 'rueb', 'endur', 'climb', 'bride', 'groom', 'arabian', 'wilbraham', 'anthoni', 'consid', 'everytim', 'linkuri', 'gallup', 'ari', 'dell', 'abbswinston', '#zionist', '#terrorist', 'kidnap', '#palestinian', 'overnight', 'juli', 'recycl', 'strive', 'maintain', 'ns', '#ns', 'biggest', 'ipod', '#weloveyouloui', 'tryna', 'oneonta', 'staten', 'colder', 'earbud', 'jare', 'unless', 'revolut', 'boksburg', 'sundown', 'previous', 'mccain', 'whoop', 'screw', 'cupcak', 'cramp', 'reblog', 'pictur', 'scar', 'nasahurrican', 'visit', '#raheelsharif', 'manifest', 'helm', 'lesotho', 'dorado', 'grandfath', 'novemb', 'daughteri', 'driven', 'rant', 'factual', 'basi', 'wasington', 'russaki', 'eastatlanta', \"#westgeorgia'18\", 'wce', 'russian', 'initi', 'allianc', 'assad', 'regim', 'complain', 'emblem', 'turn', 'ray', 'gigant', 'difficulti', 'tribal', 'madinah', '#prophetmuhammad', 'napervill', 'silvermoon', 'ironforg', 'fel', 'zakuun', '#wod', 'armori', 'chem', 'factori', 'worker', '#columbus', 'activis', 'cogniz', 'technolog', '#fit', 'canaanit', '#homosexu', 'downfal', 'societi', 'barbara', 'highway', 'suv', 'add', 'familia', 'beaumont', '#benew', 'basebal', '#met', 'homra', 'retract', 'pam', 'elvi', 'portag', 'curb', 'somerset', 'sale', 'aqua', 'chase', 'winston', 'eic', 'jun', 'yemeni', 'pig', 'symbol', 'montgomeri', 'stds', 'slogan', 'hella', 'mosh', 'pit', 'rocki', 'wwii', 'lesson', '#denver', '#bill', '#rapidc', '#seattl', '#cheyenn', 'ofcours', 'cau', 'republica', 'dominicana', '#losdelsonido', 'declar', 'saipan', '#ivanberroa', '#golf', 'mcilroy', 'pga', 'specul', 'rori', 'speculatio', 'cruis', 'whale', '#faro', 'cont', 'catharin', 'jumper', 'wider', 'varieti', 'ptsd', 'liken', 'shepherd', 'produc', 'lone', 'bandar', 'lampung', 'indonesia', 'dan', 'mediterran', 'lyric', 'doctor', 'pediatr', 'depart', 'lauderdal', 'frustrat', 'quantit', 'scourgu', 'tunein', 'player', 'paranaqu', 'aztec', 'nm', 'sputnik', 'cracker', 'inde', 'comprehens', 'porto', 'alegr', 'grand', 'sul', 'kook', 'tonto', 'hors', 'custom', '#dcubecraft', '#greetingcard', 'abuja', 'eaten', 'fill', 'danburi', 'transform', 'unconsci', 'tc', 'henderson', 'digniti', '#rn', 'siena', '#henderson', 'norg', 'person', 'ether', 'gunfir', 'soufsid', 'sell', 'weed', 'yall', 'applic', 'asap', 'arlington', '#truckcrash', 'overturn', '#fortworth', 'interst', 'gypsi', 'nova', 'scotia', 'browardcounti', 'alot', 'kidney', 'bellevu', 'smb', 'relay', 'credenti', 'legit', 'helder', 'rijkswerf', 'navi', 'sidelin', 'newest', '#sub', 'krasnodar', '#washingtonpost', 'domingo', 'alma', 'rosa', 'soloquiero', 'colo', 'lzkeli', 'mama', 'thuggin', 'homi', 'inmat', 'magnolia', 'fior', 'passeng', 'hashd', 'shaabi', 'theft', 'stewart', 'julian', 'fanboy', 'cancel', 'penni', 'alrighti', 'neighborhood', 'etisalat', 'mb', 'tecno', 'ime', 'racist', 'elitist', 'knoxvill', 'advisori', 'urban', '#megaquak', '#fartanxieti', 'immedi', 'core', 'unstabl', 'kentucki', 'selma', 'disgust', 'tsutomi', 'yamaguchi', '#nagasaki', '#otd', 'adelaid', 'wnd', 'cld', 'sct', 'bkn', 'exp', 'inst', 'apch', 'rwi', 'z', 'taxiway', 'foxtrot', 'navbl', 'tmp', 'switzerland', 'ir', 'icemoon', '#dubstep', '#trapmus', '#dnb', '#edm', '#danc', '#ice', 'guardian', 'editori', 'cas', 'affleck', '#eonlinechat', 'complex', 'contain', 'triniti', 'jkl', '#wx', 'freddi', 'fazbear', 'pizzeria', 'animatron', 'fresno', 'network', 'ksa', 'riyadh', 'organ', 'horn', 'expand', 'earring', 'jewelri', 'njenga', '#sinkhol', '#avalanch', '#usa', '#franc', '#usg', '#emsc', 'utc', 'bowl', 'ecsu', 'newlyw', 'host', 'banquet', 'dinner', 'latin', 'nada', '#otrametlif', 'mentor', 'dislik', 'femnism', 'movement', '#indiatv', 'maid', 'sponsor', 'campo', 'froze', 'frostburg', 'nostalgia', 'numenor', 'haley', 'lu', 'richardson', 'review', 'konoha', 'bother', 'offlin', 'hinata', 'lzk', 'sharp', 'nana', 'restless', 'damnnnn', 'gmcr', 'whomev', 'minist', 'buzzfe', 'smith', 'fri', '#nlccollid', 'column', 'blake', '#routecomplex', 'drift', 'bebacksoon', 'whippani', 'ssw', 'anza', 'traditionalist', 'jkt', '#roh3', '#jfb', '#tfb', '#alrasyid448iturasya', '#us', 'roh', 'smantibatam', '#roh3smantibatam', 'bishop', 'stortford', 'cow', 'slow', 'htx', 'hastl', 'drug', 'tb', 'tt', 'kettlebel', 'blueprint', 'chris', 'lopez', 'hindsight', 'jhmnye', 'fifth', '#king', 'legendari', 'period', '#delug', '#dumuzid', 'owen', 'rapid', '#kerricktri', '#twcnewsclt', 'cta', 'southeast', 'asia', '#philippin', 'aveiro', 'marilyn', 'ripriprip', 'basic', 'defect', 'intertissu', 'mate', 'milk', 'guabxfv', 'median', 'motorcycl', 'honeymoon', 'ive', 'sooo', 'notif', 'mash', 'propel', 'newark', 'savior', 'telnet', 'tunisian', 'bardo', 'abject', 'subway', 'restaur', 'lara', 'teeth', 'flesh', 'claw', 'midland', 'burst', 'main', 'omg', '#northerncalifornia', '#zippednew', 'flush', 'gtfo', 'dimens', 'hunchback', 'notr', 'choke', 'rida', 'babe', 'nepa', 'scourg', 'fang', 'creation', 'ai', 'workforc', 'contact', 'inequ', 'yea', '#teamsurvivor', '#zombiefunrun2014', 'hang', 'alpha', 'doll', 'chennai', 'disown', 'kasab', 'nave', 'tipster', 'swansea', '#chelsea', '#hazard', '#obliter', '#suryaray', 'bet', 'mother', 'marysvill', 'fenc', 'homeown', 'multivers', '#skyrim', 'await', 'kinda', 'shii', 'nasti', 'pun', 'quarter', 'pontevedra', 'galicia', 'metallica', 'inc', 'bangtan', 'bts', 'franklin', 'antiochhickoryhollow', '#tn', 'lyallpur', 'lion', 'unfold', '#cricket', 'vista', 'cindi', 'noonan', 'heartbreak', '#baltimor', '#riot', '#yahistor', '#undergroundrailraod', 'brena', 'puerto', 'rico', 'busti', 'blond', 'natalia', 'starr', 'guard', 'edt', '#wxki', 'jrowah', 'mango', 'juic', 'germ', 'anthrax', 'mishap', 'age', '#arrestpastornganga', 'collabor', 'carregado', 'midnight', '#gemma', '#bow', '#speakingfromexperi', 'lvg', 'spur', 'smaller', 'blind', 'lcb', 'cl', 'missouri', 'capitalist', 'elect', 'district', 'gentrif', '#alllivesmatt', 'necessari', 'legio', '#muhamadjab', 'nose', 'button', 'warship', 'iranian', '#bannuk', 'alert', 'simul', 'nu', 'fadc', 'greatest', 'masterpiec', 'ljp', 'chonc', 'cryibg', 'portsmouth', 'cuz', 'cart', 'common', 'churchil', 'sewag', 'estat', 'irish', 'alex', 'mika', 'eureka', 'humboldt', 'cti', 'lassic', 'repatri', 'cameroon', 'depress', 'intragener', 'sandra', 'bland', 'southern', 'desk', 'skye', 'horni', 'juici', 'pussi', 'pound', 'tale', '#tree', '#deep', '#lake', '#forest', 'ri', 'lisnaskea', 'woken', 'blockag', 'woodward', 'northbound', 'davison', '#shoalstraff', 'conscienc', 'tr', 'hollywood', 'dissuad', 'reckon', 'brain', 'dmt', 'reliv', 'foo', 'fighter', 'surri', 'length', 'prepper', 'grid', 'strong', 'bernardino', 'tattoo', 'spider', 'wrist', 'smth', '#gadget', 'gunman', 'fb', 'rep', 'quilm', 'arg', 'desper', 'disloc', 'condemn', 'revel', 'bounti', 'hunter', 'surround', 'dlh', 'yoeni', 'product', 'identif', 'ariana', 'cargo', 'onesi', 'akron', 'canadasuicid', 'evolv', 'hua', 'gainesvill', 'meek', 'sensit', 'fact', 'muscl', 'fluid', 'strain', 'sprain', 'abomin', 'maketh', 'antichrist', 'desecr', 'jerusalem', 'matt', 'onnnn', 'sounder', 'swea', 'jerseyvill', 'flatlin', 'lucif', 'wrap', 'un', 'femal', '#pbs', '#iraq', 'playoff', 'homer', 'tulowitzki', 'grimrail', 'depot', 'rts', 'brit', 'moscow', 'liquid', '#usar2015', '#usar15', '#ruor', 'stray', 'stranger', 'bacon', 'access', 'highest', 'proper', 'treatmen', '#followm', 'simon', 'genuin', 'ipad', 'jp', 'bf', 'gf', 'skip', 'debat', 'cymru', 'araul', 'spectacular', 'stonewal', 'young', 'damsel', 'distress', 'peer', 'ikeja', 'mrw', 'beneath', '#gif', '#funni', '#lol', '#comedi', '#ifunni', '#imag', '#rt', 'hayden', 'ryan', 'pose', 'strip', 'anderson', 'birdland', 'meridian', 'fd', 'wn', 'therein', 'repeat', 'eli', 'cambridgeshir', 'incredul', 'outcri', 'wast', 'taxpay', 'similar', 'scum', 'cancer', 'cambridg', 'greg', 'garza', 'atlas', 'leon', 'negro', 'copa', 'mx', '#usmnt', 'loveland', 'deal', 'amazin', 'dey', 'mkayla', 'cee', 'room', 'petti', 'childish', '#tiger', '#china', 'appal', 'businessmen', '#saveti', '#priceless', 'chatham', 'christ', '#hopeinchrist', '#newyear', 'deploy', 'besid', 'rebecca', 'roga', 'hama', 'eg', 'rn', '#prepper', '#doomsday', 'cd', '#shtf', '#preppertalk', '#surviv', 'towboat', 'trek', 'vtc', 'crato', 'gostei', 'um', 'postcard', 'polaroid', 'bikini', 'pls', 'alllll', 'nitti', 'stockwel', 'shake', 'sophi', 'gunfight', 'nant', 'starb', 'ut', 'stab', 'promis', 'spread', '#palmoil', 'throughout', '#indonesia', 'joel', 'peach', 'lo', 'dickhead', 'fist', 'swing', 'brbrs', 'fousey', 'springer', 'spaniel', 'dolphin', 'est', '#metal', 'tripsburg', 'ms', 'attach', 'cheat', 'cereal', 'dreamz', 'angelina', 'joli', 'sef', 'spain', 'espagn', 'eastern', 'pacif', 'format', 'hilda', 'liverpool', '#homealone2', '#film4', 'pair', 'atv', 'utv', 'batteri', 'sort', '#muppet', 'lanjut', 'dirumah', '#yagitudeh', 'jake', 'rumah', 'cipinang', 'catalina', 'homecom', 'prom', '#socialnew', 'philli', 'jul', 'zac', 'newsom', 'suncorp', 'profit', 'billion', 'swedish', '#hire', '#nurs', 'etoff', 'charmeus', 'clothesless', 'precisionist', 'vestment', 'psfda', 'swim', 'q', 'duck', 'eleph', 'countless', 'globe', 'orchestr', 'corner', 'aep', 'vicin', 'flex', 'pittsburgh', 'gave', 'vocal', 'chord', 'workout', 'field', '#funnydadcoach', 'brecksvill', 'item', 'croydon', 'gift', 'banana', 'malt', 'loaf', '#worm', 'kuala', 'lumpur', 'spoke', 'avert', 'bolster', '#socal', '#realhiphop', 'desert', 'olympia', 'fte', '#olympia', 'mourn', 'stir', 'grief', 'poster', 'shira', 'banki', 'jonesboro', 'arkansa', 'caution', 'wendel', 'berri', 'gulf', 'knobhead', 'khanna', 'camberwel', 'gloria', 'gaynor', 'oktaviana', 'devi', 'concur', 'mmk', 'milton', 'keyn', 'slate', 'disgrac', '#afc', 'cunt', 'dj', 'profession', 'sequala', 'homicid', '#deai', 'osaka', 'airasia', 'semarang', 'coral', 'offspr', 'precondit', 'hire', '#chemic', '#depend', 'ventura', 'doubt', 'implicit', 'statement', '#fifa16', 'season', 'tournament', '#whocar', '#queen', '#fanarmyfaceoff', 'unabl', 'ejacul', 'blinker', ':-)', 'lili', 'xo', 'sexi', 'cowgirl', 'karen', 'robinson', 'enviroment', 'posit', 'sis', 'cam', 'geometr', 'pattern', 'satchel', 'gasparc', '#bbsnew', '#israel', 'six', 'hebron', 'sweater', 'baltimor', 'mchenri', 'tunnel', 'bore', 'nort', 'montana', '#qew', 'eri', 'approach', '#niagara', 'gemini', 'distanc', 'fitz', 'tantrum', 'leagu', '#crush', 'feat', '#nws', '#thunderstorm', '#ar', '#nc', '#ok', '#jsunnew', 'trillion', 'instant', 'helo', 'fli', 'apt', 'payday', 'financ', 'liqd', 'fredonia', 'hahah', 'goof', 'guild', 'saunder', '#famili', '#cleveland', '#standup', 'patrick', 'stump', 'asylum', 'seeker', 'austel', 'cornwal', 'portaloo', 'sentient', 'benedict', 'cumberbatch', 'mariah', 'thick', 'manila', 'partnership', '#afterhaiyan', '#haiyan', '#yolandaph', '#livelihood', '#disasterrecoveri', 'gain', 'proxi', 'fortun', 'ssu', 'rsn', 'password', 'iso', 'psp', '#bestnaijamad', 'bestnaijamad', 'residenti', 'afternoon', 'unlock', 'brake', 'theatr', 'cmon', 'kontrol', '#ww3', 'bs', 'dice', '#demon', 'yorker', 'dhaka', 'bangladsh', 'guildford', 'holiday', 'sunbath', '#spain', 'roar', 'westsid', 'illus', '#fn', 'webcam', '#allthekidneybeansandsorbet4misha', '#ye', 'bangkok', 'cia', 'chines', 'derbyshir', 'cabl', 'mbiwa', 'rat', 'zzzz', 'cedar', 'satisfi', 'battleship', 'silang', 'cavit', 'aqu', 'until', 'fe', 'studebak', 'inj', 'screenshot', 'combat', 'magnum', 'opus', 'musician', 'kall', 'mattson', 'recreat', 'classic', 'clever', 'stepkan', 'economi', 'chiswick', 'recip', 'stew', 'plastic', '#life', 'barrington', 'hoffman', 'aft', 'scumbernauld', 'lans', 'spartan', 'blunt', 'cigg', 'seri', '#thegam', 'explain', 'godlik', 'coffeeshop', 'dodg', 'wayn', 'window', 'libbi', 'resembl', 'abbott', 'campbel', 'perhap', 'histor', 'recent', 'expos', '#childsexabus', 'scale', 'creamfield', '#mainstag', '#sacramento', 'laguna', 'clog', 'depreci', 'usd', 'coincid', 'opposit', 'kediri', 'jawa', 'timur', 'kwwwkwwwk', 'jiahahahha', 'yeyeulala', 'charli', 'lim', 'leh', ':-(', 'brunett', 'stretch', 'victorian', 'sofa', 'trip', '#skardu', 'saddl', 'pro', 'brass', 'tawfmcaw', 'holi', 'youuu', 'mortal', 'kombat', 'predat', 'grandeur', 'audio', 'nowt', 'fergi', 'drinker', 'wenger', 'waukesha', 'rolo', 'dq', 'dire', 'radiant', 'westerland', 'remors', 'poplar', 'dl', 'error', 'symantec', 'ergo', 'bone', 'acquir', 'postexist', 'addit', 'perquisit', 'brzjc', 'tongu', 'puddl', 'awkward', '#obama', '#iran', '#nuclear', '#irannucleard', 'knox', 'eastward', 'ercjmnea', 'sunshin', 'salli', 'email', 'awol', 'argh', 'squirrel', 'govt', '#freesikhpoliticalprisnor', '#metro', 'commut', 'debacl', 'mgr', 'semekeepschang', 'ffvii', 'exclam', 'midweek', 'auz', 'cst', 'hrs', 'hump', 'pearl', 'earner', 'unwarr', 'mothernaturenetwork', 'thundersnow', 'uncommon', 'suppli', 'frp', 'tuna', 'kijangbank', 'negara', 'wakefield', 'yorkshir', 'yell', 'ugh', 'jfc', 'salin', 'pendleton', 'temecula', '#englewood', 'idgaf', '#borrow', '#interest', '#catastroph', 'pizza', 'cuddl', 'greeley', '#bangalor', '#startup', '#in', 'administr', '#perrychat', 'cyprus', 'victori', 'code', 'lzktjnox', 'epicent', 'wet', 'hooligan', 'jail', '#uknew', 'apocalpyt', 'nuff', 'pet', 'store', '#onlinecommun', '#reddit', 'comfort', 'yliss', 'reckless', 'finnish', 'impair', 'individu', 'penney', 'xela', 'grate', 'dcfd', 'doghous', 'barcelona', 'alba', 'rnk', 'rockingham', 'stoke', 'educ', 'nelson', '#mandela', 'icon', 'chees', 'jetstar', 'bali', 'raung', 'barbado', 'cruz', 'elizabeth', 'superintend', 'lanford', 'thrust', 'jam', 'cock', 'womb', 'bossland', 'rascal', 'flatt', 'tour', 'durham', 'element', 'freedom', 'mirag', 'delet', 'yanke', '#troubleonmymind', '#flashflood', 'gilgit', '#pakistan', 'farmland', 'chunk', 'onto', 'slappin', 'smackin', 'gulfport', 'burford', 'council', '#fairi', ';-)', 'tast', 'feast', 'starv', 'jack', '#iartg', '#rwa', '#tw4rw', '#rrbc', 'hermitag', 'gop', 'voter', 'circus', 'stl', 'ace', 'speedtech', 'amber', 'envis', 'lancasteronlin', '#lancast', 'beard', 'hideous', '#uglypeopl', 'vuln', 'lmaov', 'trend', 'babalmao', 'nyozi', 'kwaaaaa', '#dead', 'belli', 'tianta', 'athen', 'map', 'sioux', 'silo', 'hartford', 'loretta', 'lynch', 'fuckin', 'realtim', 'ombudsmanship', '#firenew', '#wa', 'mofo', 'unarm', 'worseit', '#kca', '#votejkt48id', 'osborn', 'extinguish', 'snapchat', 'ekiti', 'distribut', 'gbonyin', 'lga', 'bicycl', 'idiot', 'swollen', 'supernatur', 'pave', 'ferri', 'repres', '#benedict', '#sanelesstheori', 'metal', 'vai', 'vir', 'pra', 'circl', 'locat', '#premonit', 'booti', 'xv', 'fell', 'scrape', '#summer2k15', 'chazifornia', 'salut', '#download', '#watch', 'frog', '#movi', '#sm', 'ferguson', 'mahalo', 'nui', 'loa', 'generat', '#jonvoyag', '#holomua', 'shadowman', 'monstros', 'annapoli', '#udhampur', 'jordan', 'kulli', 'shawi', 'row', 'duh', 'carmik', 'shark', 'third', 'wheel', 'vern', 'sq', 'miner', 'chile', '#elder', '#companionship', '#care', '#chester', 'kiss', 'pour', 'swmo', 'sucker', 'vibrat', 'vape', 'bust', 'charlottetown', 'integr', 'fat', 'interv', 'rockvill', '#glaucoma', '#ey', 'optic', 'nerv', '#eyefact', 'darnley', 'princ', 'edward', 'rec', 'proceed', '#iwk', 'belong', 'cabin', 'fever', 'immens', 'senseless', 'nonsens', 'unknown', 'beacon', 'ohh', 'swindon', 'grandad', 'mc', 'impress', 'cascadia', 'amirit', 'antigua', 'bare', 'ngapain', 'marian', 'guarante', 'bitten', 'mutant', 'mosquito', 'elijah', 'walker', 'usg', '#quak', 'obsolet', 'bat', '#ashes2015', '#engvaus', 'warszawa', 'ashdod', 'discov', 'emittin', 'battlefield', 'hardlin', 'throwingknif', 'contributor', 'nfl', 'deflateg', 'increment', '#blowmandyup', 'horno', 'elkhorn', 'blvd', 'walerga', 'minion', 'looooool', 'famous', 'oppos', 'pepper', 'spray', 'fake', 'motorcraft', 'wpt', 'violat', 'chattanooga', '#myanmar', '#rohingya', '#sittw', '#prison', 'condit', 'ihhen', 'msf', '#media420', 'silent', '#papicongress', 'journo', 'argu', 'kiev', 'tucson', 'steep', 'terrain', 'reddish', 'color', 'dummi', 'pronounc', 'foul', 'somebodi', 'politifiact', 'harri', 'pant', '#tcot', 'bokaro', 'steel', 'jharkhand', 'yor', 'mainten', 'distinct', 'condens', 'villa', 'mcv', 'thr', 'thrarchiv', 'mgm', '#tbt', 'hahaha', 'shoutout', '#banthebomb', 'marker', '#nosurrend', 'tozlet', 'leprosi', 'jerkfac', 'syndrom', 'later', 'lisp', 'ricket', 'web', '#liveonstream', '#grant', '#fund', 'weymouth', 'seawal', 'grant', 'denton', 'gettin', 'redondo', 'socket', 'childhood', 'pleasanton', 'kraft', 'websit', '#canada', 'reserv', 'halton', '#prevent', 'brace', '#cts', 'cebu', 'philippi', 'fbi', 'stole', 'honduran', 'present', 'judg', 'dis', 'blackpool', 'darud', '#russian', 'kgb', '#cossack', '#ushanka', 'saturn', 'smug', 'dorret', 'gateau', 'ziam', '#respect', 'amarillo', 'nyt', 'regardless', 'compet', 'badg', 'knowledg', 'foolish', 'wisdom', 'teach', 'amsal', 'elsa', 'anna', 'ohhhh', '#tangletalk', 'committe', 'personnel', 'warm', 'osag', 'tacoma', '#australia', '#fire', '#firemen', '#firetruck', '#rescu', '#summertim', '#siren', 'nexus', 'shifter', 'trinidad', 'tobago', 'disillus', 'crow', 'trope', 'intact', 'kinesiolog', 'durabl', 'gianni', 'submerg', 'reef', 'lan', 'shadi', 'hyenatown', 'corn', 'flake', 'copycat', '#antioch', 'circular', 'master', 'mil', 'credit', 'auburn', 'ton', 'scene', '#pitchwar', 'magic', 'realism', 'diff', 'senior', 'bulletproof', 'funer', 'curtain', '#becarefulharri', 'utah', 'lifetim', '#storm', 'attend', 'ralli', 'utd', 'pedro', 'mill', 'snake', '#yonew', 'lownd', 'exposur', 'broadcast', 'journal', 'otherwis', 'superv', 'fgcu', 'quarrel', 'wud', 'thalapathi', 'turner', 'fenton', 'particular', 'hogsmead', '#sandiego', 'trolley', '#algeria', 'jade', 'gaffney', 'dorrian', 'guardrail', 'johannesburg', 'achiev', 'excel', 'develop', 'enterpris', '#identitytheft', '#taxreturn', '#cri', 'lyrium', 'saca', 'peacetim', 'garow', 'puntland', 'somalia', 'bah', 'autumn', 'winter', '#menswear', '#urbanfashion', 'monti', 'python', 'aogashima', '#aogashima', '#photographi', '#volcano', 'gross', 'leed', 'blower', 'tuffer', 'aussi', 'mkx', 'albeit', 'unsuccess', 'inbound', 'nat', 'nl', 'anyweher', 'status', 'combin', 'louisvill', 'ici', 'rum', '#thisdayinhistori', 'confeder', 'restiv', 'northwest', '#foodscar', '#offers2go', '#nestleindia', '#magginoodl', '#ban', '#humanconsumpt', 'nother', 'amateur', 'actress', 'repris', 'role', '#horror', 'persecut', 'tipperari', 'allot', 'brighten', 'raini', 'newberg', 'jacqu', 'betz', '#orcot', '#orpol', '#foxdebatequest', 'institut', 'sharia', '#teen', '#nsfw', '#porn', '#milf', 'closeup', 'parley', 'summit', 'shidddd', 'schiphol', 'mail', '#amsterdam', 'manitou', 'mma', 'note', '#bc19', 'presum', 'timelin', 'soggi', 'lash', 'moist', 'knob', 'thread', 'gotta', 'flow', 'rar', 'disson', 'station', 'telemarket', 'barri', 'solo', 'picken', 'pea', '#scwx', '#hamont', 'edwin', 'chick', 'masturb', 'largo', 'passiv', 'coerc', 'bhopal', 'particul', 'solid', 'fossil', 'voltaic', 'voc', 'etroleum', 'bacteria', 'decomposit', 'surgic', 'bit', 'vic', 'hardi', 'freeman', 'connecticut', 'younger', 'era', 'misfit', 'assur', 'crowd', 'overload', 'context', 'patient', '#thestrain', 'hooter', 'peachtre', 'midget', 'overhead', 'oakridg', 'sw', 'zimbabw', 'samaritan', '#twimbo', 'zimpapersview', 'modern', 'au', 'lizz', 'sansa', 'shook', 'blink', 'buffalo', 'tyler', 'blackburn', 'pll', 'submit', 'form', 'schism', 'privaci', '#drone', '#privaci', 'peekskil', 'beet', 'ttw', 'tower', 'gorgeous', 'watertown', 'gazett', 'homemad', 'frozen', 'yogurt', 'luck', 'sabrina', 'cage', 'pagasa', 'yellow', 'panay', 'guimara', 'trivium', 'nasa', 'eep', 'freakiest', '#indiannew', 'gmtti', 'mhtw', 'router', 'ddos', '#phone', '#game', '#tv', 'afp', 'thursd', 'nanaimo', 'hakogaku', 'born', 'rais', 'lego', 'brick', '#crazyideascolleg', 'mclean', 'orpik', 'taught', '#emsn', 'fsc', 'emile', 'milkshak', 'index', 'remedi', 'angioplasti', 'dissert', 'elit', 'dismay', '#worstsummerjob', 'cosponsor', '#renew911health', 'ventur', 'chosen', 'suitabl', 'jariana', 'emili', 'shelley', 'timebomb', 'destin', 'atcha', 'golfbal', 'sunni', '#parkchat', 'interlock', 'barrier', 'pad', 'speaker', 'qti', '#mh370', 'disappear', '#blacklivesmatt', 'lahor', 'cricket', 'profil', 'lamha', 'ba', 'stung', '#dna', 'deriv', 'formula', 'maj', 'muzzamil', 'offr', 'souss', 'tuni', 'invit', 'feelin', 'dw', 'chipper', 'sprinkler', 'faq', 'lawn', 'ebb', 'carr', 'headlin', 'sift', '#generalnew', 'uganda', 'lit', 'socialtim', 'roleplay', 'refer', 'dictat', '#nghlth', 'aquarius', 'queenmi', 'pretens', 'sing', 'phantom', 'songfor', 'cute', 'graduat', '#fireman', 'william', 'outcom', 'metastat', 'colorect', 'surgeri', 'shadowflam', 'wraith', 'angl', '#abc7eyewit', '#hometownglori', 'thriller', 'remand', 'pez', 'sophia', 'freya', 'indiahttp', 'houma', 'womem', 'unrel', 'salisburi', 'cypress', 'orch', 'tyrant', 'cocoa', 'reopen', 'sake', 'ortiz', 'bunt', 'forefath', 'display', '#gopdeb', 'rowyso', 'setlist', 'craig', 'vladimir', '#bric', '#robert', 'jupit', '#usnwsgov', 'prehistor', 'authent', 'pochett', 'bosphor', 'playstat', 'retro', 'platform', 'platinum', '#deals_uk', 'terlingua', '#climatechang', '#anarchi', 'shore', 'kilbi', 'padr', 'fiasco', 'met', 'float', 'peek', 'mud', 'immun', 'deafen', 'hermancranston', '#atk', '#letsfootbal', 'skanndtyagi', 'outbid', 'catlow', 'swivel', 'shar', 'calori', '#thisispublichealth', 'moham', 'yobe', 'damaturu', 'meerkat', 'periscop', 'depth', 'cope', 'nola', 'reiter', 'mindset', '#profession', '#help', 'legion', 'chapel', 'undon', 'advers', 'purfleet', 'wherea', 'jez', 'simpli', 'print', 'genius', 'clvlnd', 'split', 'testicl', 'rand', 'jess', 'forsur', 'gym', 'waldo', 'cooperstown', '#joestrong', '#gokitgo', 'whose', 'drako', 'zarharzar', 'guillermo', 'noaa', 'recoveri', 'recommend', 'dragon', 'wicdiv', 'tangl', '#taiwan', 'categori', 'defin', 'navig', 'cnmi', '#prayforsaipan', 'enniscron', 'aughri', 'sligo', 'motion', 'epa', 'toxic', '#buffalo', 'laoi', 'advertis', 'bff', 'tyron', 'rubber', '#britishbakeoff', '#paulhollywood', 'gusti', 'uptown', 'midtown', 'cn', 'migrain', 'slytherin', '#islamophob', '#vegetarian', '#vegan', 'torch', 'popular', 'bk', 'strict', 'vegetarian', '#govegan', '#uniteblu', 'phillip', 'neverland', 'km', 'pace', 'nike', 'sportwatch', 'gps', '#nikeplus', '#toosoon', 'fraction', 'vital', '#educ', '#econom', 'candi', 'jet', 'illog', 'osama', 'mhmmm', 'galveston', 'sixth', 'premium', '#galvnew', '#standwithpp', 'sidjsjdjekdjskdjd', 'court', 'session', 'testimoni', 'gunshot', 'aracaju', 'sergip', '#njturnpik', 'cryptic', 'eu', 'squabbl', 'immigr', 'eurotunnel', 'mm', 'dartmouth', 'yewa', 'overcom', 'behold', 'tcc', 'endless', 'atleast', 'jubail', 'ic', 'barbar', 'austrian', '#meditationbymsg', 'medit', 'divin', 'allay', '#glander', 'equestrian', 'solitud', 'summari', '#utfir', 'resili', 'factsheet', 'van', 'buren', 'bathtub', 'bett', 'usama', 'ladin', 'quest', 'murlo', '#android', 'tribez', '#androidgam', '#gameinsight', 'odawara', 'okinawan', 'mum', 'fetch', 'pyjama', 'demco', 'hitch', 'ultra', 'pivot', 'uhc', 'creeper', 'salti', 'uninvestig', 'incit', 'maddi', 'tae', '#oktxduo', 'motha', 'dumb', 'newbi', '#travel', 'ride', 'riddler', 'primari', 'presidenti', 'wannab', 'rich', 'sub', 'davi', 'bangin', 'rose', 'sti', '#rochdal', '#heywood', 'cram', '#prez', 'maker', 'stomach', 'term', 'tradit', 'azur', 'cloud', 'channel', 'enabl', 'afghan', 'ljubljana', 'slovenia', '#natur', '#japanjapan', 'inferior', '#anonym', '#nytim', 'baan', 'thai', 'sushi', 'teamo', 'supremo', 'pogo', 'pardon', 'mindless', 'niqqa', 'judgement', 'mpc', 'prematur', 'madrid', 'comunidad', 'esn', 'cilla', 'stroke', '#idol', '#wdym', 'bridport', 'seal', 'roman', '#california', 'buena', 'nora', 'jone', 'maria', '#ukflood', 'trekker', 'himalaya', 'realist', 'asset', 'koz', 'medium', '#savioursquadåç', 'crown', 'champion', 'championsblackfoot', 'christiana', 'sn', 'vabeng', 'zss', 'sws', 'captain', '#stoponesound', '#airwav', 'fm', '#anthrax', 'cdc', 'safe', 'balvanera', 'afterward', 'savour', 'prolong', 'sigu', '#rio2016', 'jesus', 'sara', 'misguid', 'disturb', 'kiddi', 'ploppi', 'bakersfield', 'kern', 'kbak', '#liveonkbak', 'frail', 'despit', '#fantasticfour', 'joe', 'magnet', 'yep', 'mdash', 'bronvill', 'janta', 'laid', 'portion', '#badotweet', 'hip', 'hop', 'beef', 'fennovoima', '#breakingnew', 'drum', 'janic', 'romero', 'hutch', 'nia', 'quizz', 'pak', '#elect', '#achedin', 'ell', '#rubybot', '#modiministri', 'rossum', '#difficultpeopl', 'kama', 'theori', 'magist', 'arent', 'dwarv', 'inspect', 'kenai', 'mf', 'vocalist', 'melani', 'fiona', 'slept', 'lonely', 'strang', 'ish', 'sila', 'slice', 'headlinelik', 'cabbag', '#gh', 'sangan', 'soft', 'rhodeisland', 'absurd', 'ridicul', '#manhood', 'drob', 'hugh', 'chair', 'goofbal', 'pd', 'wwa', 'auckland', 'unsur', 'page', 'hagerstown', '#break', '#hagerstown', '#whag', 'pee', 'jogja', 'wctv', '#amageddon', '#freespeech', 'baydestrian', 'sudden', 'gloomi', 'miseri', 'gazan', 'corps', 'jitter', 'otp', 'grandma', 'ssshhheeesshh', 'gari', 'dixi', 'fiddl', 'sequenc', 'jass', 'wbu', 'antonio', 'emmi', 'iit', 'logic', 'glanc', 'thancr', 'carolin', 'bigsbi', 'supermarket', 'beyonc', 'elkhart', 'appoint', 'ft', 'lolo', 'paulo', 'rafael', 'castillo', 'rcmp', 'tch', 'whitbourn', 'anger', 'mideast', 'ncms', '#picthi', '#toronto', 'amazing', 'resolv', 'fricken', 'dear', 'humanityi', 'apolog', '#nuclearweapon', 'leicest', 'icymi', '#ash', 'miranda', 'tooth', 'absecon', '#civilian', 'macon', '#gawx', '#kaumelit', 'vor', '#smofc', 'tacit', 'ndia', 'golborn', 'businessman', 'condo', 'foil', 'troup', 'breakdanc', 'rss', 'import', 'reset', 'hannov', 'cpr', 'medic', 'panama', 'devil', 'vergil', 'agnus', 'dmd', 'leedstraif', 'sin', 'girlfriend', 'budapest', 'hungari', 'diagnosi', '#digitalhealth', '#hcsm', 'collar', 'codi', 'crawl', 'hea', 'mercuri', 'gt', 'trim', 'mould', 'cobra', '#freegucci', 'greensburg', 'evil', 'piano', 'undeserv', 'thirsti', '#wave', '#casualti', '#aid', 'grown', 'sunnyval', 'puppi', '#newbeginningsanimalrescu', 'llf', 'fez', 'heavyweight', 'lemon', '#lolla', 'telli', 'cast', 'edcxo', 'burrow', 'dorett', 'that', 'camper', 'mino', 'stuart', 'contractor', 'danvill', 'snowflak', 'boulder', 'ford', 'bahstun', 'porta', 'reeko', 'papi', 'fleek', 'wherev', 'netflix', 'advanc', 'wqow', 'apprais', '#anti-terror', '#act', '#nz', '#hugomatz', 'okayyyyyi', 'corey', 'brewer', 'deceas', 'tumbl', 'shedid', 'washard', 'relaxinpr', 'miprv', 'latim', 'shed', 'escondido', 'coolest', 'hawthorn', 'abe', 'pledg', 'frighten', 'somehow', 'micom', 'contrast', 'bowknot', 'womengirl', 'zip', 'po', 'kate', 'understand', 'learni', 'nearest', 'trash', 'photogen', 'gosh', 'xd', '#iminchina', 'portabl', 'closet', 'ebook', 'mediev', 'file', 'dixon', 'aladdin', 'kindl', 'fountain', '#tootru', 'gabriel', 'afraid', 'cometh', 'wailuku', 'maui', 'cervix', 'odel', 'definit', 'awak', 'cove', '#trump', '#hardbal', 'ore', '#koin6new', 'superhero', 'epilepsi', 'bradley', 'diebold', 'epilept', 'incap', 'nothing', 'infin', 'blais', 'pascal', 'asburi', 'lifeguard', 'lock', 'preacher', 'quinci', 'simmer', '#nhl', 'concuss', 'warthen', 'midst', 'bullpen', 'bubbl', 'cardiff', 'talent', 'stil', 'restrict', 'demonstratio', 'currenc', 'transgress', 'ward', 'payment', 'unsecur', 'jbumzqpk', 'shite', 'plez', 'spare', 'oom', 'su', 'distract', 'yuppi', 'tourist', 'layer', 'tryout', 'minus', 'toenail', 'nus', 'rein', '#food', '#fun', 'malaysian', 'najib', 'razak', 'yrs', 'hide', 'loos', 'typic', 'inroic', 'preserv', 'ajw', '#jishin_', '#minamisoma', 'hsu', 'hao', 'flawless', 'panam', 'negat', 'cardboard', 'heartwarm', 'ginga', 'defeat', 'walmart', 'innov', 'breakdown', 'guest', 'branch', 'sureti', 'underwrit', 'languag', 'monterrey', 'despair', '#grindhous', '#texaschainsawmassacr', 'wowo', 'moan', 'demeanor', 'staid', 'brisk', '#myfitnessp', 'nicosia', 'ought', 'victorinox', 'swiss', 'mop', '#lomasvisto', 'devour', 'intersectio', '#cadenadeseguidor', 'withstand', 'ski', 'alexandria', 'chocol', 'jan', 'moir', 'suitland', 'skill', 'korea', 'vari', '#appreciativeinquiri', 'medford', 'lytham', 'romeo', 'juliet', '#warmbodi', '#afterlif', 'freed', '#bokoharam', 'captiv', 'foxa', 'cmcsa', 'sni', 'amcx', 'viab', 'twx', 'nsw', 'spout', '#winechat', 'transfer', 'southampton', 'virgil', 'dijk', 'decatur', 'rotterdam', '#partsunknown', 'hw', 'ohlordi', 'fandom', 'panik', '#kelbytomlinson', 'sicam', 'lizzi', 'repair', 'thnk', '#calwildfir', 'aftermath', 'stealth', 'kuwait', 'japton', 'poss', 'attic', '#naturaldisast', 'ren', 'damatu', 'suit', 'bistro', 'goal', 'tix', 'furi', 'xvii', 'aa', 'didnt', 'gabon', 'worldoil', 'subscript', 'corii', '#wishlist', 'exc', 'graywarden', 'slave', 'trade', 'fema', 'coastal', 'wwi', 'mido', 'bozeman', 'deed', 'offload', 'torrent', 'java', 'scariest', 'spike', 'prior', 'ckec', '#saudi', '#abha', 'methvill', 'flipadelphia', 'infantri', 'lume', 'dial', 'analog', 'quartz', 'nylon', 'fabric', 'snap', 'tool', 'gray', 'embroid', 'logo', 'groton', 'prohibit', 'deck', 'wwat', 'rv', 'brentwood', 'ssb', 'loser', 'imam', 'lincoln', '#danger', 'rice', 'bulgarian', 'titti', 'noemot', 'edk', 'pathfind', 'hd', 'bolshevik', 'monopol', 'hunhri', 'artifici', '#sing', '#tsunami', 'beginn', '#comput', 'tutori', 'plymouth', 'urogyn', 'mesh', 'offend', 'everton', 'wonderkid', 'emilio', '#thankyou', 'woosley', 'sarcasm', 'meter', 'alameda', 'blubber', 'baffl', 'telegraph', 'rchs', 'coffin', 'locker', 'tommorow', 'harass', 'tractor', 'mooresvill', 'iredel', 'congest', 'fiction', 'lnp', '#christianvalu', 'crptotech', '#bank', '#bitco', '#blockchain', 'paxton', 'whelen', 'model', 'amplifi', 'shaker', 'northampton', 'puck', 'skinless', '#c4new', '#arsonist', '#headlin', '#nightbeat', 'burglari', 'watford', 'dopey', 'oem', '#odu', 'antoniooooo', 'lung', '#addtexastonext1dtour', 'geneva', 'heather', 'sparxxx', 'threesom', '#bakeofffriend', '#rockyfir', 'jerri', '#udhampuragain', 'skynet', 'artha', 'giveaway', 'dren', 'railway', 'warsaw', 'homefolk', 'propos', 'omw', 'omfg', 'drag', 'pandora', 'cowork', '#omg', '#rip', '#jetengin', '#turbojet', '#bo', '#g90', 'marietta', 'stem', '#cub', 'tween', 'lisowski', 'whitewash', 'shanghai', 'qual', '#snooker', 'stare', 'furious', 'freez', 'eral', 'unplug', 'myelf', 'lhh', 'lamia', 'napa', 'postal', 'brazo', 'languish', '#noirand', '#tedcruz2016', 'loath', 'min', 'peterborough', 'fowler', 'frank', 'opp', 'occup', 'evanston', 'northwestern', 'contruct', 'upgrad', 'vashon', 'mukilteo', '#earthquakenew', 'ham', 'releg', 'mermaid', 'whistl', 'skirt', 'implic', 'glove', 'fifti', '#datingtip', '#goodread', 'hwrf', 'taipei', 'suprem', 'cannon', 'ashayo', 'vod', 'hoxton', 'poignant', 'scarier', 'uga', 'alumnus', 'annoy', 'crusti', 'phil', 'gravel', 'sob', 'confus', 'wasnt', 'everwh', 'gumptown', 'oppress', 'akur', 'ondo', 'bsf', 'jawan', 'fidayeen', '#insa', 'insa', 'waziristan', 'awwww', '#rewatchingthepilot', '#teamscorpion', '#cyclon', '#hinatobot', 'machin', '#helicopt', '#firefight', '#oregon', '#easternoregon', 'rural', 'purpos', 'paci', 'rsf', 'gag', 'sirius', 'chan', 'sayin', 'dhs', 'hkxfymhex', 'alley', 'psalm', 'redeemeth', 'servant', 'desd', '#sismo', 'ml', '#cs', 'hearthston', 'freeport', '#thexfiles201day', 'cascad', 'childress', 'comma', '#slab', '#labour', '#labourleadership', 'contest', 'explan', 'sweep', 'norman', 'vincent', 'peal', 'coyot', '#phoenix', '#arizona', 'exact', 'lesnar', 'cena', 'summerslam', 'brock', 'ferno', 'compon', 'arnhem', 'rank', '#artectura', '#pop2015', '#nå', 'florenc', '#music', '#playlist', '#youtub', 'rspca', 'infomerci', 'crept', 'jacket', 'lakewood', 'followurdream', 'lookss', 'brand', 'pact', 'utrecht', 'dental', 'oral', 'cosm', 'hybrid', 'szuter', '##youtub', 'glide', '#hope', 'nyse', 'fdx', 'packag', 'lrt', '#du19', 'spree', 'belief', 'marivel', 'bataan', 'croat', 'bailiwick', 'btw', '#gilbert23', '#isea2015', '#newswatch', 'lansdown', 'sts', '#ptbo', 'montreal', 'certifi', 'kent', 'lee', 'comedi', 'tori', '#interestrateris', 'trophi', 'photoshop', 'melros', 'rockland', 'nyack', 'pineview', 'railroad', 'csx', 'balanc', '#mediterranean', 'massgrav', 'ensu', 'ud', 'ypres', 'dyersburg', '#colorado', 'tak', 'usf', 'acronym', 'labyrinthia', 'aaaa', 'lemm', 'roomr', 'nomad', 'draenor', 'yike', 'pup', 'freelanc', 'consist', 'encourag', 'eur', 'bwin', '#destroy', '#free', 'brave', 'inspi', 'alil', 'indepth', 'diesel', 'breed', 'pug', 'recogn', 'spous', 'certif', 'macclesfield', 'ty', '#hhbu', 'antipozi', 'trigger', 'cuck', 'waiver', 'microsoft', 'weight', 'hmmm', 'thin', 'laughtrad', 'capitul', '#survivor', 'perpetr', 'ilford', 'winger', 'prem', 'feder', 'enclav', 'metrobus', 'cincinnati', '#orapinforma', 'galleria', 'kleenex', 'subcontractor', 'survey', 'cgg', 'metlif', '#otratmetlif', 'raheel', 'sharif', 'chitral', 'laud', 'fwo', 'aviat', 'opera', 'emsc', 'affili', 'southwest', 'omaha', 'util', 'pole', 'ojodu', 'indict', 'consent', 'cleanup', 'underway', 'reg', 'brockton', 'regc', 'commonwealth', 'ppc', 'gameofkitten', '#explodingkitten', 'morgan', 'dollar', 'ch', 'bu', 'pl', 'satin', 'proof', 'toledo', 'hank', 'cassadaga', 'looter', 'toler', 'curri', 'herman', 'stephenson', 'victorvill', 'wut', 'ditch', 'hungrier', 'clap', '#goingdownthetoilet', 'unawar', 'sanit', 'bois', 'idaho', '#abomb', 'destroyd', '#cnv', 'gif', '#africansinsf', '#beyondgp', 'architectur', 'calgarian', 'seoul', 'thyroid', '#paraguay', '#thinkpink', '#magichairbump', 'vacat', 'untangl', 'partner', '#besttalkradio', 'ayyo', 'dei', 'serva', 'fidem', 'embra', 'tier', 'dee', 'dum', 'mink', 'dakounti', '#elephantintheroom', 'roskomnadzor', 'politic', '#autismawar', 'balconi', 'ferribi', 'obsess', 'rightway', 'outback', 'bbcnew', '#nevada', 'steadi', '#nv', 'gusto', 'persist', 'amongst', 'hpssjd', 'peoria', '#ppsellsbabypart', 'jervi', '#pugprob', 'migrat', 'iphoto', 'hrsto', '#earthtwerk', 'crouch', 'tyre', 'startup', 'flower', 'surrey', 'remark', 'puni', 'epoch', 'hung', 'musik', 'virus', 'alaska', '#healthcar', '#kodiak', 'whs', 'sweden', '#after', 'munch', 'endang', 'speci', 'sec', 'si', 'leitchfield', '#mercado', '#loveislov', 'decad', 'littleton', 'terran', 'prettyboyshyflizzi', 'grc', 'founder', 'subscrib', 'stolen', 'albani', 'bloomberg', 'calzon', 'throwin', 'kaneoh', 'husband', 'kenton', '#lao', 'underwat', 'vision', 'pros', 'contr', 'brigad', 'journey', 'lesa', 'ooooohshit', 'ooohshit', 'nagpur', 'lifelin', 'fci', 'grain', 'fr', 'avail', 'noodl', 'flee', 'vice', 'fee', '#hotnewscak', 'resist', 'infect', '#adiossuperbacteria', 'appetit', 'billboard', 'mafia', 'mulan', 'malkavius', 'glitch', '#titania', 'reimagin', 'midsumm', 'yadkinvill', 'fed', 'garrett', 'ashburn', 'iii', 'slateport', 'hoenn', 'cuti', 'lotg', 'smooth', 'bird', 'moth', 'chalk', 'mous', 'subtl', 'disney', 'diss', 'mcr', 'snort', '#flavorchargedtea', 'itali', '#rome', 'slit', 'throat', '#nbc15', 'radic', 'wwe', 'mycar', 'mutt', 'futurea', 'totalitarian', 'firemen', 'literatur', 'barrack', 'milki', 'cfc', 'ancop', 'tita', 'bend', 'swayback', '#calfir', 'eastcarolina', 'fvck', '#traintragedi', 'pilgrim', 'unimpress', 'trib', 'suspend', 'tight', 'tremont', '#concert', 'piti', 'cosmet', 'periwinkl', 'copper', 'pipe', 'waialua', 'gecko', 'hackney', 'kissimme', 'gage', 'unpredict', 'disconnect', 'californian', 'sahel', 'chore', 'adventist', 'sabbath', 'monsoon', 'landsli', 'monday', '#bloodymonday', '#tvshowtim', 'soc', 'democrat', 'hurl', '#beyondthebomb', '#theash', 'pari', 'frusciant', 'himalayan', '#tweet4taiji', 'worship', 'superstit', '#ovofest', 'ovo', '#ziphimup', 'eugen', 'melton', 'termin', 'eac', 'greenpoint', 'dhalgren', 'down', 'doflamingo', 'kodiak', 'ian', 'browner', 'shout', 'deadend', 'buddha', 'urbanis', 'brahman', 'domin', 'misti', 'indiffer', 'shutdown', '#escort', '#gfe', '#dubai', 'kosciusko', 'pedestrian', 'crocodil', 'gravi', '#kidscompani', 'ibadan', 'oyo', '#ika', '#tune', 'soup', '#diet', 'diet', '#ferguson', 'trinna', 'roadsid', 'rembr', 'vest', 'detectado', '#japì_n', 'miyagi', 'jst', 'prairi', 'corsicana', 'thrown', 'doug', 'galatian', 'josh', 'salyer', 'blair', 'caption', 'freshman', 'stacey', 'basement', 'streetlight', 'sinjar', 'yazidi', 'lack', 'elm', 'remad', 'listeria', '#thene', '#recip', 'folk', 'bash', 'thh', 'furst', '#newsdict', '#chile', 'inciweb', 'rogu', 'nf', 'uniqu', 'detector', 'kp', 'janenelson', 'stephenscifi', 'adapt', '#sciencefict', 'cartervill', 'swane', 'chairman', 'reev', 'huber', 'meanwhil', 'hush', 'burp', 'conven', 'award', 'gis', '#gisuserpr', '#geotech', 'addict', 'forgiv', 'canva', 'zipper', 'qld', '#dutton', '#presser', 'interpret', 'uhhhhh', 'crusad', 'longaberg', 'floral', 'strap', 'hinterestland', 'sel', 'damp', 'qnh', '#facebook', '#socialmedia', '#strategi', 'couch', '#dvd', 'horowitz', 'vaccin', 'nwo', 'rainier', 'ted', 'jeb', 'mitt', 'lay', 'greek', 'tsipra', 'wallybait', 'waterway', 'achimota', 'forrestmankin', 'pp', 'sami', 'kanger', '#newsintweet', 'orca', 'toung', 'pepperoni', 'canuck', 'eh', 'reus', 'transit', 'champaign', 'fdbdp', 'alien', 'extermin', '#age', 'cis', 'istj', 'liver', 'worldnew', 'chiyoda', '#fettilootch', '#slanglucci', 'chowchilla', 'schoenfeld', 'jdb', 'ljc', 'agb', 'tw', 'ahhhh', 'comparison', 'nnw', 'hana', 'tat', 'flashback', '#traumatis', 'locksmith', 'circa', 'clock', 'gba', '#smarttek', '#mper', '#safeti', 'hermosa', 'taron', 'wilsher', 'recordand', '#arsen', 'bago', '#we', '#defend', 'solicitor', 'intrigu', 'mistress', 'okuma', 'gpv', 'wnw', 'ogba', 'chieftain', 'task', 'dickson', 'burton', 'brig', 'gen', 'kaiser', 'mississippi', 'commiss', 'mrc', 'predjama', 'eslovenia', 'bsg', 'suffici', 'jitsu', 'hexagon', 'peel', 'male', 'southdown', 'royal', 'windsor', 'mississauga', 'weyburn', 'fentanyl', 'provinc', 'thane', 'honolulu', 'serephina', '#saudiarabia', 'wolverhampton', 'brum', 'wholesal', 'ordain', 'spurgeon', 'midwestern', 'intox', 'fangirl', 'clayton', 'nebraska', 'warfar', '#gfz', 'minuscul', 'etp', 'fund', 'pasadena', 'dravet', 'fairfield', 'shine', 'gunmen', 'salvador', 'salvadoran', 'gang', 'alton', 'livestream', 'joseph', 'minnesota', 'eddi', 'vedder', 'lap', 'ditto', 'drank', 'vodka', '#turkish', '#syrian', 'libyan', 'vilnius', 'vroman', 'machida', 'acn', 'diarrhea', 'whitewalk', 'everett', 'diablo', 'westmarch', 'arreat', 'ikorodu', 'dicki', 'receipt', 'scandinavia', 'clev', 'wrigley', 'yahoo', 'jackass', 'stuffin', 'wha', 'hueco', 'mundo', '#flightciti', 'vid', '#doublecup', 'maxsi', '#demolit', '#worker', '#halifax', 'funtua', 'keeper', 'runnin', 'nno', 'tutor', 'pres', 'deli', 'greasi', '#oomf', 'youngstown', 'osp', 'wipp', '#sejorg', 'sigmund', 'freud', 'caaaaaall', '#hyperbol', '#saintsfc', 'stockton', '#cdcwhistleblow', 'measl', 'complic', 'newton', '#boston', 'specialist', 'iof', 'lesbian', '#lesbian', '#fx', 'boe', 'vanish', 'heheh', 'playa', '#newsarama', 'livemint', '#allthenew', 'uruguay', 'skyler', 'durban', 'martial', 'anzio', 'obispo', 'exhibit', 'dill', 'pickl', 'torn', 'shotgun', 'fizzi', 'landolina', '#realest', 'wildomar', 'beij', 'luhan', 'exo', 'hidden', 'nsa', 'softwar', 'zeal', 'indecis', '#spotlight', '#wniagospel', 'chpsre', 'rezaphotographi', 'dwight', 'eisenhow', '#scseestapreparando', 'mag', 'khuzdar', 'joshua', 'typo', 'slither', 'viscous', 'erykah', 'badu', 'wilmington', 'frascati', '#novalismi', 'mallord', 'shade', 'clicca', 'titolo', 'devis', '#displac', '#refugeesmatt', 'rong', 'sask', 'cosmic', 'fate', 'barack', '#bless', '#tnn', 'imeshika', 'hapa', 'mat', 'bumper', 'aar', 'piga', 'kijan', 'virg', 'mizzou', 'bama', 'gcc', '#kuwait', 'daesh', 'june', 'confess', 'kindermorgan', '#rockin', '#artistsunit', 'topic', 'xoxo', 'ay', 'ethiopian', '#p2', 'multin', 'tactic', 'corrupt', 'infiltr', 'ruler', 'statesvill', 'sindria', 'fukurodani', 'bokuto', 'ppor', 'braveri', 'randi', 'irwin', 'evansvill', 'usag', 'wompppp', 'valparaiso', 'rizzo', 'manhattan', 'iwat', 'resin', 'flatback', 'rhineston', 'fa', 'reebok', 'xl', '#hockey', 'lucia', 'tiffanyfrizzel', 'unpreced', 'frenzi', 'mania', 'astound', 'edmonton', 'faith', 'akito', 'frothi', 'gyp', '#weddinghour', 'barak', 'depend', 'le', 'memenet', 'raynor', 'bald', 'imperfect', 'biker', 'emo', 'generic', 'festac', 'delta', 'bbm', 'bartend', 'wise', 'carnag', '#ggindependencmessag', 'hmm', 'agent', 'guaravita', 'yellowknif', 'nt', 'gnwt', 'voluntari', 'pickerel', 'reid', 'basket', 'charm', '#mysteri', '#paranorm', 'mackem', 'bolton', 'math', 'sugarhous', 'dimapur', 'helmet', 'silveri', 'karnal', 'pbcanpcx', 'thda', 'greenspac', '#kyee', 'nockthi', 'hamlet', 'taungbazar', 'buthidaung', '#southlin', 'yennora', 'cabramatta', 'foundat', 'mold', 'growth', 'livin', 'tarragona', 'aaarrrgghhh', 'thorgan', 'gladbach', 'ashenforest', 'floorburnt', 'manzanita', 'timber', 'johnson', 'gurgaon', 'haryana', '#tornadogiveaway', '#thebookclub', 'pummel', 'cano', 'fastest', 'lrhcthband', 'bournemouth', 'luke', 'microphon', 'ovari', '#rfp', 'transporta', 'weallheartonedirect', 'broader', 'conserv', '#alaska', 'burma', 'unrest', 'cheap', 'deactiv', 'walkthrough', 'berlin', 'systemat', 'tortur', 'grahamwp', 'aggressif', 'janeenorman', 'deputi', 'tema', 'realvill', 'farrakhan', 'con', 'portfolio', '#diversif', 'edapp', 'kochi', '#crime', '#justic', '#court', 'paducah', 'spyro', 'textur', 'paso', 'modi', 'morocco', 'strait', 'gibraltar', '#duststorm', 'estado', 'unido', 'infest', 'mouth', 'wimp', 'shiti', 'bark', 'cooool', 'scofield', 'hotbox', 'sona', 'stockholm', 'copperfield', 'closest', 'bae', 'soak', 'backroom', '#thisiswhywecanthaveniceth', 'exquisit', 'sto', '#cumshot', '#sex', '#porno', 'rq', 'fittscott', 'vi', 'pacquiao', 'marquez', 'unfil', 'swarm', 'durvod', 'blica', 'ahhhhh', 'alec', 'tort', 'comp', 'injustic', 'mh', 'nois', 'ofnsixjk', 'sen', 'feinstein', 'hurri', 'uncontrol', 'pierc', 'aus', 'marlon', 'presley', 'panther', 'shuffl', 'legend', '#cutekitten', '#catsofinstagram', '#summerinsweden', '#katt', '#katterpì', '#duml', '#dagen', 'glue', 'type', 'adhd', 'elk', 'rover', '#internetradio', '#collegeradi', '#chernobyl', '#lonepin', 'descend', '#gallipoli', '#ww1', 'monica', 'qualiti', 'licens', 'notley', 'harper', 'heartland', 'tfw', 'albertan', 'hammersmith', 'brisban', 'aust', 'surabaya', 'berlatski', 'illustr', 'horrifi', 'isai', 'psm', 'conspiraci', 'scatter', 'episcop', 'priest', 'interraci', 'harrow', \"#whereveri'mat\", 'rapper', 'autobiographi', 'lawton', 'collin', 'settl', 'cockpit', 'goku', 'birb', 'royton', '#justaguess', 'isl', 'tlc', 'sibl', 'romanc', 'afrikaan', 'preorder', '#thebargain', 'christi', 'hillsid', 'collater', 'colombia', 'nueva', 'favorita', 'thesensualey', 'apr', '#pussi', '#ass', '#boob', '#asian', '#nude', '#appl', '#mobil', 'pune', 'most', '#adani', '#modi', 'palermo', '#palermo', '#shipwreck', '#children', '#death', 'naypyidaw', 'prensa', 'latina', 'enfield', 'illusoria', 'icarus', 'nowplay', 'ha', 'somec', 'scout', 'bak', 'puth', 'wandsworth', 'epsom', '#wimbledon', 'cottag', 'morganit', 'gemston', 'opal', 'sterl', 'ring', 'if', 'and', 'but', 'harwich', '#twcnew', '#ncwx', 'wakanda', '#tubestrik', 'pisco', '#coya', '#london', 'suspici', 'rl', 'essex', 'noida', 'ncr', 'twittervill', 'artic', 'otm', 'courtney', 'laudner', 'teas', 'panti', 'bunker', 'compulsori', '#notrocketsci', 'eritrean', 'mina', 'territori', 'alhaji', 'sha', 'ibeto', 'cement', 'competitor', 'random', 'rutherfordton', 'ruhl', 'modoc', 'temporarili', 'reassign', 'paratroop', 'eau', 'clair', 'sentenc', 'chippewa', 'ibrahimmisau', 'pretoria', '#mufc', 'built', 'epl', 'delux', 'elder', 'storybrook', 'fold', 'rainfal', '#vietnam', 'situat', 'ln', 'nrw', 'stephen', '#iamdowntown', 'paignton', 'hobo', '#women', 'insula', 'barataria', 'hypocrisi', '#francisunderwood', '#hoc', 'ibiza', 'pill', '#jamaicaplain', 'frisco', 'pete', 'okla', 'meteor', 'nside', 'kamchatka', 'photographi', 'daniel', 'korzhonov', 'mazda', 'upper', 'keithyy', 'oct', 'bloke', 'hassl', 'mouss', 'winik', 'heroin', 'loughborough', '#stephenk', '#thedarktow', 'dunde', 'arkan', '#straightfir', 'gv', 'heir', 'notifi', 'banbridg', 'er', 'indoor', 'arfur', '#georgecol', 'ankara', 'malatya', 'orontem', 'ara', 'ashrafiyah', 'afrin', 'ypg', 'impos', 'runaway', 'thirst', 'sandun', 'gull', '#sizewel', '#worldwatchesferguson', 'citizen', 'tripoli', 'abcnew', 'sedar', 'anaheim', 'deliber', 'cpanel', 'yoga', 'peru', 'cooki', 'dough', 'williamsburg', 'selangor', 'advis', 'rot', 'potato', 'walthamstow', 'looooooooooool', '#breaking411', 'mistrust', 'friendship', 'giorgio', 'hiatt', 'yhngsjlg', 'yamaku', 'academi', 'rin', 'shizun', 'misha', 'emi', 'kenji', 'yuuko', 'nomiya', 'hisao', 'flip', 'cultiv', '#pjnet', '#tcotåê', '#ccot', 'taint', 'gate', 'jaileen', 'campsit', 'pub', 'midg', 'airstrik', 'isil', 'kurdistan', 'fizz', 'vinc', 'mcmahon', 'haiku', 'arrog', 'missi', 'summertim', 'hotboy', '#horribl', '#watchthevideo', 'lahar', 'gwalior', '#grupdat', 'buscam', 'tu', 'checkout', 'nurgl', 'snuck', 'wd', 'dehydr', '#putin', 'decre', '#yazidi', 'neddick', '#cantwaittoplayinminneapoli', 'remix', 'merg', 'offramp', 'sac', 'glean', 'chandler', 'bedford', 'chew', 'gum', '#newcastleupontyn', 'goner', '#whoop', 'romford', 'imposit', 'prescott', 'narrat', 'lavatori', 'easier', '#insur', 'kinet', 'typographi', 'fuso', 'yamashiro', 'naval', 'cachet', 'chevrolet', 'lt', 'pickup', 'glendal', '#trafficalert', 'citrus', 'azusa', 'basketbal', 'faction', 'voltair', 'gloucest', '#gloucest', '#capeann', '#seagul', '#triciaoneil', '#triciaoneillphoto', 'greenvill', 'summon', 'pokemon', 'elat', 'recap', 'winnipeg', 'dilut', '#bridgetown', 'albuquerqu', 'cooler', 'pdx', 'abq', 'bcuz', 'jarmusch', 'vampir', '#teamhennessi', '#nj', 'colombian', 'festiv', 'mello', 'misfortunebut', 'nawf', 'poke', 'twentynin', 'eve', 'jon', 'wmata', 'crippl', '#tepco', '#nissannew', 'kessler', 'exponenti', 'prolifer', '#gravitymovi', 'worldwideweb', '#dw', 'breath', 'sys', 'clergyforc', 'grossli', 'disfigur', 'roam', 'zero', 'branco', 'adventur', 'whatev', 'brut', 'raw', 'uranium', 'rod', 'creatur', 'greensboro', 'sugg', 'vivian', '#psychrewatch', 'cal', 'lover', 'drama', 'alloc', 'veneto', 'theyr', 'eyesss', 'manitoba', '#occupi', 'patio', 'tabl', 'umbrella', 'suspens', 'ls', 'grade', 'eddyvill', 'oak', '#winter', '#southdown', '#hampshir', '#treeporn', '#insanelimit', '#plugin', 'tps', 'tdm', 'mba', 'careen', 'eovm', 'dm', 'duckvillelol', 'niiiic', 'chorley', 'lancashir', 'fyld', 'preston', 'skylin', 'hometown', '#hiroshima70', 'niec', 'unreal', 'pawsox', 'oblivion', 'hairdryer', 'hector', 'bellerin', 'regard', 'perish', 'holodomor', 'erect', 'dubstep', 'hardstyl', 'beg', '#rodkiai', 'litter', 'locomot', 'golf', '#sportinggood', 'kisumu', 'loner', 'diari', 'twos', 'wmv', 'farewel', 'en', 'dvd', 'gtxrwm', 'piper', 'curda', 'gansey', 'shield', '#cecilthelion', 'postpon', 'lurk', 'assum', 'holmgren', 'exhaust', 'shanaynay', 'aspect', 'howev', 'heavydirtysoul', 'roppongi', 'minato', 'harden', 'flop', 'ident', 'bg', 'soulja', 'chappaqua', 'redland', 'congratul', 'besieg', 'indiscrimin', 'contempl', 'courag', 'engag', 'mbataweel', '#binladen', 'rabaa', 'observ', '#rememberrabaa', 'thu', 'gmt', '#millcityio', 'theramin', 'bruv', 'ego', 'dqsvyusi', 'niagara', 'brant', 'drummond', 'sisterhood', 'vampiro', 'commerci', '#ultimalucha', '#luchaunderground', 'pleasur', 'huzzah', 'vermilion', 'liveleak', 'specimen', 'dumbfound', '#jackson', '#ms', 'bruis', 'chest', 'dundalk', '#askcharley', 'cher', 'lloyd', 'brighton', 'hove', 'aannnnd', 'ramp', 'abbandon', 'darsena', 'castello', 'scaligero', 'sirmion', '#jtw', 'workplac', '#retail', 'perspect', 'contribut', 'earl', 'sow', 'tie', 'gameday', 'mullin', '#sjubb', 'hitter', 'pitcher', '#pft', 'barkevi', 'mingo', 'preschool', 'hunger', 'tanzania', 'census', 'grrrr', '#thorium', 'scandal', 'environment', 'label', 'skinni', 'jean', 'tiger', 'dugout', 'lifelong', 'mumbl', 'cackl', 'wolter', 'peeter', 'cmpostela', 'rhyme', '#tribe', 'titan', '#chronicil', '#mylifestori', 'khq', 'wordk', 'zmne', 'tbr', 'brows', 'gr', 'homepag', 'pine', 'scroll', 'rework', 'plumb', 'glitter', 'halt', 'hast', 'prone', 'ykelquiban', 'hil', '#wahhab', '#zionism', 'pocono', 'flaw', 'okinawa', 'maximum', 'overtim', 'stuck', 'kodak', 'dig', 'metric', 'pcps', 'physician', 'attende', 'blanket', 'reaf', 'fuddi', 'sole', 'sb', 'fwi', 'terwillig', '#pp15000266858', '#pdx911', 'limerick', 'aul', 'excus', 'shopp', '#harperanetflixshow', '#elxn42', '#stopharp', 'hacker', '#givebackkalinwhiteaccount', 'lucio', '#overwatch', 'mcdonald', '#greatbritishbakeoff', 'cbc', 'nadiad', 'gujarat', 'thankkk', 'soo', 'notificationsu', 'fella', 'parshol', 'superb', 'jus', 'awesomelov', '#frvrgrate', 'tumblr', 'submiss', 'modest', 'sniff', 'sniiiiiiff', 'upstair', 'hypo', 'hap', '#natsnat', 'rutherford', '#entertain', '#brucewilli', 'monkey', '#ebay', '#auction', 'grit', 'churubusco', 'rove', 'raccoon', 'toughen', 'slicker', 'swime', 'akxbskdn', 'legionna', '#playingnow', '#bloodbound', 'noch', 'teammat', 'goodnight', 'gunner', 'nationwid', 'dress', 'meme', '#spark', '#song', 'hillarymass', 'swell', '#miami', '#atlanta', '#casper', 'outlaw', 'firefigth', '#nonucleariran', '#badirand', 'nne', 'geyser', 'incognito', 'ender', 'mgs', 'quot', '#hangout', 'prob', 'youd', 'malik', 'perri', 'glononium', 'nitroglycerin', '#trollingtilmeekdiss', '#houston', '#innov', '#treescap', 'ransomwar', 'killa', 'ninja', 'commenc', 'colon', 'prove', 'begun', 'tren', 'cheeki', 'recoil', 'inch', 'dynasti', 'shtap', 'dubloadz', 'droppd', 'meellltt', 'spell', 'leesburg', 'wolforth', 'fourth', 'altamont', '#afp', '#guardian', '#wps', 'gamertag', 'bexrayandvav', 'ona', 'tvd', 'catskil', '#ny35', 'bobcat', 'vivid', 'triad', 'sippin', 'catalogu', 'ooh', 'guilti', 'hatman', 'delici', 'danni', '#guillermo', 'hawaiianpaddlesport', 'rudd', 'emil', 'hirsch', 'gordon', 'filmmak', '#entretenimento', 'agoni', 'wrightsboro', 'barcouski', 'pb', 'lexington', 'expo', 'keith', 'ibaraki', 'prefectur', 'of', 'pumpkin', 'carriag', '#vaginaorcak', 'dirti', 'pfft', 'bot', 'unhing', 'machismo', 'bullshit', 'beaverton', 'renison', 'tem', 'suplex', 'whitbi', 'relentless', '#incid', 'pasco', 'vale', 'outbound', 'tullamarin', 'citylink', 'moreland', 'mongolia', 'trident', 'pumper', 'ho', 'refund', 'dorl', 'kindersley', 'buddi', 'alabamaquak', 'verseth', 'interlaken', 'rsa', 'baghdad', 'lubric', '#metrofmtalk', 'ram', 'soldi', 'advantag', 'apropo', 'favor', 'pwhvgwax', '#bayonet', '#evilempir', '#jadehelm15', 'dysfunct', 'mcconnel', 'judici', 'nomin', 'notori', 'laboratori', 'dealer', 'peta', 'invest', 'isnt', 'parad', '#oneheartonemindonecss', 'yeaahh', 'bribrioni', '#ndtv', 'drayesha', '#indiakomuntorjawabdo', 'pleb', 'perthshir', 'celtic', 'aberdeen', 'guelph', 'warp', 'attila', 'cafetier', 'crockeri', 'fau', 'franki', '#murfreesboro', '#walmart', '#mothernatur', '#yycfring', '#killhard', 'bella', 'rosali', 'sponsorship', 'slain', 'mexican', 'unknow', 'islamabad', 'psn', 'pipboi', '#najibrazak', '#malaysiaairlin', 'suffield', '#dam', '#gms', 'olap', 'multidimension', 'catwalk', 'gasolin', '#coppednew', 'veggi', 'goulburn', 'bilsen', 'poffin', 'jimin', '#mrrobinson', '#thesteveharveyshow', 'vibe', 'overr', 'lydeard', 'overwhelm', 'metrotown', '#burnabi', '#changeforthewors', 'metaphor', '#piperwearsthep', '#charm', 'ds', 'teessid', 'obvious', 'yyeso', 'sl', 'greink', 'worcest', 'mafireem', 'wmur', 'kcarosawmur', 'secondhand', 'galapa', 'llegast', 'bellvill', 'tosu', 'championship', 'font', 'balikesir', 'eskisehir', 'porcini', 'ricotta', 'foliag', 'douchebag', 'hiker', 'tafekop', 'imperi', 'militar', '#rowysolouisvill', 'anew', 'equat', '#blackpool', 'kow', '#beclearoncanc', 'arachi', 'function', 'inbetween', 'gangsta', 'icicl', 'projectil', 'various', 'miniatur', 'rzl', 'atm', '#albani', '#ni', 'breakth', '#kamindoz', '#reuter', 'nonexist', 'makai', 'tenshi', 'pocatello', 'moe', 'bouta', 'flint', 'metropoli', 'highsmith', 'foodborn', 'bye', '#redsoxn', 'vanessa', 'liv', '#thatswhatfriendsarefor', 'salvag', 'tomato', 'mateo', 'cabrillo', 'magellan', 'mir', 'texasss', '#askh3cz', 'jealous', 'elgato', 'bday', 'abort', 'blowjob', 'cannib', 'genocid', 'lou', 'holtz', 'quiet', 'phandom', '#bethlehem', 'sbee', 'nail', 'cue', 'throwback', '#whirlwind', 'acryl', 'campground', 'celebreti', 'yooooooo', 'disclo', 'patrickjbutl', 'damiengayl', 'closur', 'burbank', 'dothraki', 'underestim', 'andrea', 'jacqui', 'merl', '#infosec', '#dfir', '#threatintel', 'neck', 'blowout', 'batista', 'lauren', 'webster', 'mogadishu', 'baggag', 'robin', 'although', 'steak', 'pasti', 'negoti', 'simultan', 'acut', '#mumbai', 'jim', 'uncertain', 'sketch', '#startrek', '#tos', 'bd', 'sham', 'stanford', '#blackinamerica', '#growingupblack', 'remot', 'encaust', 'cerographi', 'byityf', 'kc', '#oilandga', 'kasich', 'wordldwid', 'cest', 'fforecast', 'tarmineta', 'drool', 'wrex', 'helsinki', 'noxious', 'euro', 'guthri', 'huntington', '#kro', 'pittsboro', 'quirk', 'armenian', 'jamrock', 'remodel', '#pearlharbor', 'incompet', 'lewi', 'puent', 'tend', 'legitim', 'butterfing', 'hood', 'silentmind', 'nott', 'foxsportscom', 'labor', 'dope', 'hogwart', 'sheffield', 'rotherham', 'terrif', 'tact', '#ableg', '#cdnpoli', '#cafir', 'inver', 'hitchhik', 'sore', 'bona', 'fide', 'cisladi', 'incident', 'homosexu', 'bi', 'tewkesburi', 'juanni', 'beisbol', 'sr', '#lgm', 'es', 'marshal', 'dambisa', 'moyo', '#ope', 'cruce', 'neat', '#deltachildren', '#instaquot', '#quoteoftheday', '#disney', '#waltdisney', 'canterburi', 'jaiden', 'establish', '#donzilla', '#trump2016', 'gregori', 'wickett', 'schwarber', 'cervelli', 'puff', 'silli', 'clown', 'riversid', 'kcrw', 'genisi', 'wc', 'eaton', '#chariti', '#run', 'sept', 'castl', 'donington', 'revolt', 'zhejiang', 'skyhold', 'redcliff', 'aidan', 'cpt', 'jhb', 'audit', '#bangladesh', '#worldvis', 'elliott', 'sheer', 'herring', '#scraptrid', 'dean', 'angela', 'sander', 'roundhous', 'mpp', 'lambast', 'kanglaonlin', 'wee', '#oneborn', 'juda', 'scorpion', 'astonish', 'gig', '#talkradio', 'lemonad', 'semi', 'paid', 'cydia', 'tweak', 'disput', '#gunfail', '#nra', 'bchs', 'ngata', 'osteen', '#paint', 'rindou', 'parisian', 'gauz', 'pikachu', 'diretub', 'benton', 'reboot', 'thruuu', 'vitali', 'churkin', 'briliant', 'klimkin', 'subsd', '#navi', 'railgun', 'fur', 'billi', 'mnl', 'tallahasse', '#ca', '#ut', '#co', '#or', '#vaxshil', 'wreak', 'seatbelt', 'concentr', '#kurd', 'trampl', 'turkmen', 'vandal', '#diyala', 'coif', 'devon', 'minna', 'stevi', 'breeder', 'bred', 'dragonval', 'mug', 'oman', 'muscat', 'seeb', 'tremor', 'dlc', 'ink', 'commerc', 'com', 'bene', 'gesserit', 'litani', 'dune', 'winner', '#babri', 'todayhav', 'reveng', 'aunt', '#fierc', 'thisisfaz', '#byebyesoundcloud', 'misdirect', '#kurokobot', 'pettyvill', 'jamshedpur', 'renam', 'goonda', 'motley', 'selfavow', 'crook', 'determin', 'democraci', 'wrote', 'parliamentari', 'subsequ', 'sack', 'sleeper', 'lynchburg', 'prosper', '#comdev', '#asia', '#program', 'upcom', '#komen', 'nifc', 'uphil', 'islamist', 'anjem', 'choudari', 'wrapup', 'shire', 'cocain', '#alameda', '#coke', '#freeamirnow', '#freeallfour', 'garrison', 'sector', 'vaca', 'benson', 'clegg', '#map', '#polit', '#txlege', '#twia', 'unsign', '#lakeeffect', '#snowstorm', 'twill', 'denim', 'moli', 'aberdeenshir', 'roadid', 'compton', 'overse', 'doe', 'brooo', 'gard', '#shelli', 'entitl', '#bb17', 'bradi', 'socal', 'gmmbc', 'spacex', 'musk', 'liabil', 'besti', 'chainsaw', 'mooseknuckl', 'fraud', '#vra50', 'tireless', 'dent', 'deduct', '#wcvb', 'err', 'flour', 'bummer', 'mackay', 'mmmmmm', 'oooooohhhh', 'oooh', 'punctur', 'foreign', '#icd10', 'thrive', 'hub', 'flamethrow', 'accident', 'lighter', 'innsmouth', 'lightrail', 'hint', 'snippet', 'travi', 'sheriff', '#nh1new', '#tanzania', 'na', 'tinixw', 'hoopa', 'berkeley', 'elem', 'pomo', 'nuy', 'eq', 'cech', 'keegan', '#enolagay', 'disarm', 'cheshir', '#allov', '#yug', 'starmad', 'stardat', 'lanetari', 'daniell', 'bestcoast', 'andr', 'gore', 'lalaloopsi', 'seed', 'sunburst', 'seashor', 'spice', 'kajang', 'uitm', 'puncak', 'ketter', 'nite', 'bangor', 'standstil', 'blevin', 'push', '#gladiat', 'jasmin', 'legal', 'crude', 'contoocook', 'politician', '#plannedparenthood', 'jami', 'repay', 'juan', 'shove', 'pillow', 'muffl', 'factor', 'rope', 'shitton', 'exclus', 'playthrough', 'saskatchewan', 'defenc', 'curs', '#rider', 'stern', '#injuri', 'panda', 'revers', 'gut', 'deutsch', 'rotten', 'monarchi', 'brinco', 'abia', 'inec', 'ikpeazu', 'apga', 'kotolili', 'requiem', 'hustletown', 'mwednesday', 'londonstan', 'chain', 'obligatori', 'onlinemh', 'onlinea', 'starter', 'knife', 'teddi', 'mare', 'havnt', 'discount', 'redesign', 'itrawcwb', 'eaubonn', 'purdi', 'meereen', 'remembr', 'kingswinford', 'daviesmutia', 'unexplain', '#childhooddefin', 'sketchbook', 'mask', 'marg', 'ehek', 'finalis', '#alt', '#electro', '#rock', '#comingsoon', 'gasp', 'giggl', 'idek', 'dogger', 'westward', 'regent', 'tow', 'metr', 'pandem', '#content', '#polici', 'overland', 'netanyahu', 'argument', 'sothwest', 'harbing', 'crescent', 'newser', 'coquitlam', 'restart', 'psycholog', '#appi', 'myth', 'obscur', 'kitana', 'slay', 'clyde', 'lilourri', 'narri', '#losangelestim', '#latim', 'generous', 'nece', 'marketforc', 'hoist', '#rdg', 'mega', 'sew', 'belt', 'jailbreak', 'bayonn', 'bestfriend', 'mxaaaa', '#stretcher', 'uprootin', 'narrowli', 'interrupt', 'bernard', 'shaw', 'renov', '#entrepreneur', '#manag', '#leadership', '#smallbiz', 'rabidmonkey', 'ight', 'farther', 'nbc', 'bb', 'allegi', 'groningen', 'trp', 'mockeri', 'lawrenc', 'emporia', '#royal', 'out', 'superpow', 'buchana', 'dalkeith', 'edison', 'lightbulb', 'tesla', 'wank', 'easton', 'softbal', 'fastpitch', 'wolmer', 'nashua', 'okanowa', 'mainlin', 'andi', '#masterchef', 'yeda', 'yakub', 'uniti', 'weeaboo', 'strongest', 'referencerefer', 'xekstrin', 'nostril', 'partak', 'creel', 'moron', 'brainless', 'schoolboy', 'focus', 'waimat', 'bicep', 'torso', '#jonathanferrel', 'rockford', 'ursula', 'protoshoggoth', 'scheer', 'pyrotechn', 'artwork', 'cai', 'blossom', 'davao', 'heartbeat', 'familiar', 'kinder', 'planeta', 'soultech', 'trey', 'songz', 'oblivi', 'aurora', 'gestur', '#choosegod', '#restoringpath', '#missionhil', 'thinner', 'ricin', 'cartel', 'marijuana', 'bradford', 'weep', 'malang', 'interven', 'vitess', 'clash', 'buildup', 'bandung', 'aimless', 'dryer', 'deters', 'hlg', '#nazi', 'istanbul', 'agalloch', 'nicoma', 'choctaw', 'kach', 'concret', '#la', 'feb', 'poem', 'daubt', '#state', '#brochur', 'downsid', 'wni', 'firework', 'forebod', 'enhanc', 'expans', 'satur', 'hue', 'wiltshir', 'westend', 'puritan', 'ayshbanaysh', 'grape', '#archipelagowolv', '#extinct', '#standforwolv', 'maharashtra', 'charter', 'vrwc', 'ol', 'haiti', '#jakartapost', 'typewrit', 'gunk', 'mirad', 'righteous', 'ideal', 'documentari', 'parter', '#idfir', 'cheroke', 'pelham', 'microb', 'joint', 'elimin', '#homeimprov', 'asgard', 'dagger', 'thigh', 'sif', 'hmu', 'sequel', 'ralph', 'catalonia', 'rainbow', 'gail', 'russel', 'dalroy', 'haiyan', 'lax', 'ceder', 'mclaughlin', 'stateless', 'hendersonvill', '#icymi', '#annouc', 'riski', 'blackfald', 'sailor', 'artilleri', 'cartridg', 'norfolk', 'cab', 'buhh', 'mic', 'nycha', 'pox', '#virus', '#infectiousdiseas', 'bleak', 'elecman', 'pompano', 'bhp', 'billiton', 'mon', 'duke', 'undercov', 'command', '#ashes2ash', 'ifak', 'efak', 'trick', 'ofclan', '#fresno', 'keli', 'halsey', 'collab', 'afycso', 'allerg', 'sunflow', 'aaaaaaallll', '#abcnew', 'invinc', 'redeem', 'seren', 'insomnia', '#insomnia', 'costa', 'urg', 'wouldnt', 'diplomat', 'dant', 'retweet', 'aubrey', 'wealthi', 'sacrific', 'bremerton', 'hampstead', 'hog', 'intellig', '#bhusa', '#iwasdisappointedbi', 'thanjavur', 'unharm', 'debbi', 'camarillo', '#wish', 'bundi', 'mcgwire', 'bushman', 'palmer', 'cecil', 'perceiv', 'faint', 'sputter', 'candl', 'vast', 'glacier', 'etern', 'gyrsi', 'testi', 'hatr', 'par', 'tod', 'singer', 'songwrit', 'ration', 'veget', 'seventi', 'denier', 'alga', 'bloom', 'alska', 'seewe', 'caribean', 'snowbal', 'inhof', 'seclus', 'complianc', '#morevoic', 'ashford', 'kauai', 'moor', 'veil', 'bracelet', 'wristband', 'forehead', 'flare', 'oli', 'extract', 'tbs', 'mre', 'lisbon', 'gg', 'wilden', 'idc', 'consum', 'fct', '#sebe', 'harpurhey', 'infantryman', 'experiment', 'assert', '#gop', '#disabledveteran', 'groin', '#thepartyofmean', 'babal', 'lmfaoooo', 'turkmenistan', 'diaspora', 'hammock', 'dserialpcilp', 'pci', 'dual', 'fragranc', 'spit', 'princess', 'smfh', 'gn', 'njh', 'cth', 'mannequin', 'woodland', 'hs', 'jackhol', 'statesboro', 'vidalia', 'heathrow', 'amen', 'salvat', 'vanderbilt', 'itirapina', '#rolandonabeat', 'elli', 'gould', 'acess', 'nosso', 'para', 'ouvir', 'rubi', 'vulnera', 'huntley', 'nankana', 'sahib', 'correspond', 'aseer', 'unexercis', 'honda', 'psqd', 'gap', 'everybodi', 'waver', 'suruc', 'oun', 'logan', 'mordechai', 'yehuda', 'friedman', 'ramat', 'shemesh', 'pelota', 'ecolog', 'afghetc', 'humanitarian', 'dumbass', 'boxset', 'lindsay', 'burok', 'ascend', 'attain', 'juror', 'wallahi', 'microchip', 'needl', 'tbh', 'followback', '#rt_4_a_ment', '#ti', 'hyatt', 'cote', '#traitor', '#sms', '#summer', '#crazyweath', '#actionmoviestaughtus', 'reaad', 'plsss', 'duti', 'ghost', 'campanha', 'roy', 'spx', 'finit', 'mint', 'chicagoland', 'calumet', 'cin', 'tg', 'hp', 'tmr', 'neal', 'rigga', 'shirt', 'devereaux', 'scifi', '#thriller', '#scifi', 'unholi', 'altern', 'demonstr', 'ame', 'sincer', 'megan', 'swanger', 'ruthann', 'mccormick', 'daisi', 'henley', 'crazier', 'bilingu', 'sri', 'lanka', 'ormond', 'goodby', 'gobsmack', '#harrybecar', 'jedi', 'droid', 'hasbro', 'lorr', 'naaa', 'prais', 'ministri', '#now', '#wdyouth', '#biblestudi', '#feelingman', 'gc', 'cnbc', 'scarlet', 'lenor', 'saison', 'tribun', 'arin', 'gummi', 'grumpout', '#setting4success', '#smallbusi', 'marbella', 'saltillo', 'coahuila', 'zaragoza', 'corona', 'affair', 'grew', 'maricopa', 'hotter', 'enorm', 'warra', 'quadrillion', 'fierc', 'enem', '#bishopfr', '#beconfid', 'zumiez', 'hindhed', 'forth', 'apologis', 'grudg', 'unfollow', '#bake', '#cake', '#kenya', 'dam', '#langata', 'sunburi', 'crystal', 'waterfront', 'kamon', 'sheff', 'salamanca', 'cultsierr', 'piraci', 'slaveri', 'pure', 'medal', 'hensley', 'katunew', '#sr14', 'brush', '#liveonk2', 'hav', 'sht', 'phantasm', 'cummerbund', '#warcraft', 'trost', 'sera', 'sasha', 'peic', 'sidewalk', 'goooooooo', '#thedoolinggroup', 'bordento', 'junko', 'creep', 'inflict', 'derma', 'bracket', '#republican', 'bairstow', 'buffet', 'lad', 'scab', 'parker', 'sheet', 'bombard', 'ransack', 'awesomeeeeeee', 'syd', 'bankstown', 'wattl', 'gal', 'deco', 'trickier', 'splash', 'principl', 'mandem', 'totteham', 'maddddd', 'ting', 'dere', '#nopow', 'ribbon', 'thrissur', 'lansdal', 'simpson', '#nffc', 'wesley', 'verhoek', 'household', \"#don'tpan\", 'mulberri', 'antoni', 'recognis', '#droughtmonitor', 'moder', 'contig', 'woodcreek', 'rosevill', 'holdin', 'byproduct', 'numa', 'casa', 'iiii', 'riveeeeeer', 'nap', 'awash', 'abstract', 'dustpig', 'gloucestershir', 'marinad', '#yiayplan', 'amiibo', 'decemb', 'dismiss', 'rape', 'correl', 'marketwatch', 'grang', 'filter', 'offsit', 'heartless', 'whip', 'fleetwood', '#q99', 'sherwood', 'densiti', '#biztip', 'snipe', 'lumbar', '#hurrican', '#meteoearth', 'tarp', 'outfield', 'infield', 'gamma', 'januari', 'dec', 'mueller', 'nov', 'graveyard', 'sturgi', '#kotaweath', 'khulna', 'someplac', 'paulista', 'alliston', 'forfeit', '#tripoli', 'delawar', 'landfal', 'trillrebel', 'warriorcord', 'paracord', 'batam', 'medan', 'newspap', 'reput', 'prestig', 'prosser', 'pharrel', '#tnwx', 'wsjthinktank', 'colleenmnelson', 'teemo', 'newli', 'mapl', 'transgend', 'viterbo', 'bfa', '#skh', 'insult', 'devot', 'pride', 'reprocuss', 'retroact', 'warri', 'bartholomew', 'limeston', 'col', 'yellowston', 'fieldston', 'klitschko', 'devic', 'darlington', '#desol', '#theconspiracytheori', '#newep', 'imaginedragon', 'rheinbach', 'orchid', 'witch', 'luca', 'duda', 'nic', 'badass', '#phantrash', 'middlesbrough', '#snapchatselfi', '#wrongperson', 'apd', 'chakra', 'rioter', 'dreieich', '#ufo4ublogeurop', 'kilkenni', 'catfish', 'assess', 'optim', '#sustain', '#literarycak', 'rhode', 'wpri', 'manavadar', 'lp', 'monitor', '#bhramabul', 'jewel', 'duo', 'squeaki', 'skull', 'obedi', 'silverman', 'soundtrack', 'tracey', 'ullman', 'intent', 'gastric', 'carcinoma', 'fragil', 'gene', 'romanatwoodvlog', 'beluga', '#seaworld', '#opseaworld', 'gbbo', '#drain', 'kai', 'forbath', 'oven', 'employe', 'paperwork', 'hr', 'simplifi', 'staf', 'logist', 'satir', 'indistinguish', 'baku', 'erzurum', 'ina', 'bute', 'fayettevill', 'overcharg', 'rent', 'arnd', 'dealbreak', 'avi', 'header', 'mage', 'fairi', 'tail', 'natsu', 'dragneel', 'tkyon', 'refriger', 'deadgirltalk', 'unfortunemelodi', 'jaylenejoybeligan', 'tarynel', 'dredougi', 'aest', 'wifi', 'hotspot', '#shakeolog', 'protein', 'slap', 'showdown', 'qvc', 'unsens', 'outrun', '#fiya', '#topstori', 'timesofindia', 'slatina', 'cole', 'earthl', '#babi', 'sugar', 'garner', '#asae15', 'exhibitor', '#assnchat', 'assembl', 'substanti', 'outnumb', 'fir', '#st', '#illinoi', '#hazmat', 'techfish', 'calhoun', 'nrc', 'delphi', '#keepthefaith', 'essenceofm', '#she', '#back', 'meadow', 'foto', 'divid', 'outbre', 'akx', 'flyest', 'hippi', 'corpus', 'kwajalein', 'aarhus', 'jutland', '#norge2040', 'wk', 'seward', 'bypass', 'gidi', 'flynn', 'onr', 'calabria', 'malta', 'hockey', '#ge', '#robot', 'stormtroop', 'somm', 'fla', 'stain', '#decisionsondecis', 'divestitur', '#result', 'electrostat', 'fusion', 'standardis', 'clinic', 'per', 'behaviour', 'aq', 'div', 'fought', 'mia', 'kawartha', 'canad', '#varagesal', 'kelli', 'osbourn', 'latino', '#windstorm', 'leelanau', '#besaf', 'snack', 'redbul', 'obta', 'transcript', 'butiqob', 'tulsa', '#arkansa', '#nola', '#funnynew', 'fascin', 'propaganda', 'tailor', 'kay', 'lestah', '#zippolin', '#moveit', 'motordom', '#visionzero', 'joboozoso', 'usat', 'cactus', '#borderland', '#borderlands2', '#oocvg', '#ftw', 'jungl', 'harsh', 'hatzolah', 'pakpattan', '#littlewomenla', 'wema', 'booz', 'offshoot', 'gmail', 'killafornia', '#retweet', 'hannah', 'regalo', 'knive', '#ojoubot', '#real', 'buff', 'magnitud', 'have', 'dub', 'cimahi', '#movietheatr', 'verdict', 'ewa', '#christian', '#cufi', 'jew', 'convert', 'haircut', 'minim', 'wine', 'infograph', 'groceri', 'ach', 'runkeep', '#loseit', 'firetruck', 'sticker', 'decal', 'ogun', 'smuggler', 'sandi', 'hook', 'elementari', 'martyr', 'cherri', 'outfit', '#ootd', '#doubleghat', 'havenford', 'nicol', 'fletcher', 'tenno', 'dojo', 'faculti', 'polmont', 'cain', 'taller', 'reveillertm', 'macabrelolita', 'amino', 'goofi', 'ja', 'pvc', 'durand', 'waddesdon', 'sittway', 'jhaustin', 'childfund', 'appeal', 'faulti', 'firebal', 'grub', 'kike', 'cluei', 'telekinesi', '#pixelsmovi', 'northland', 'uproot', 'censor', '#cc', 'thorough', 'nvr', 'mistreat', 'opportun', '#nonprofit', 'simmon', 'camden', 'handsom', 'nors', 'landscap', 'snotgreen', 'willow', 'glen', 'trestl', 'bioter', 'torri', 'alvarez', 'te', 'amo', 'docker', 'tambourin', 'virtual', 'dorri', 'caruana', 'conklin', 'augusta', 'robbi', '#redsox', 'guayaquil', 'pornhub', 'marrakech', 'dina', 'tensift', 'haouz', 'emt', 'minimum', 'wage', '#ambul', 'liabl', 'beauc', 'boylesport', 'casino', '#luck', 'gia', '#kardashianempir', 'ratio', 'js', 'blah', 'maxi', 'veld', '#trc', 'alsowhat', 'bilic', 'themh', 'carmen', 'beatdown', 'louavul', '#bbshelli', '#catfish', 'pedal', 'boweri', 'natali', 'cheer', 'poconorecord', 'chann', 'spa', 'purport', '#volleybal', 'volleybal', 'kesabaran', 'membuahkan', 'hasil', 'indah', 'pada', 'saat', 'tepat', 'incom', 'buckley', 'omron', 'hem', 'cuff', 'symptom', 'stamford', 'shropshir']\n"
     ]
    }
   ],
   "source": [
    "cnt_c = CountVectorizer(tokenizer = tknz)\n",
    "cnt_c.fit_transform(train['keyword_location_text'].head(10))\n",
    "\n",
    "print(list(cnt_vec_c.vocabulary_))"
   ]
  },
  {
   "cell_type": "markdown",
   "metadata": {},
   "source": [
    "## Задание 8 (1 балл)\n",
    "\n",
    "1. Примените CountVectorizer с реализованным выше токенизатором к обучающим и тестовым выборкам.\n",
    "2. Обучите LogisticRegression на полученных признаках.\n",
    "3. Посчитайте метрику f1-score на тестовых данных."
   ]
  },
  {
   "cell_type": "code",
   "execution_count": 91,
   "metadata": {},
   "outputs": [],
   "source": [
    "from sklearn.linear_model import LogisticRegression\n",
    "from sklearn.metrics import f1_score"
   ]
  },
  {
   "cell_type": "code",
   "execution_count": 95,
   "metadata": {},
   "outputs": [],
   "source": [
    "cnt_reg = CountVectorizer(tokenizer = tknz)\n",
    "bow = cnt_reg.fit_transform(train['keyword_location_text'])\n",
    "bow_test = cnt_reg.transform(test['keyword_location_text'])"
   ]
  },
  {
   "cell_type": "code",
   "execution_count": 96,
   "metadata": {},
   "outputs": [
    {
     "data": {
      "text/plain": [
       "LogisticRegression(random_state=1)"
      ]
     },
     "execution_count": 96,
     "metadata": {},
     "output_type": "execute_result"
    }
   ],
   "source": [
    "clf = LogisticRegression(random_state=1)\n",
    "clf.fit(bow, train['target'])"
   ]
  },
  {
   "cell_type": "code",
   "execution_count": 98,
   "metadata": {},
   "outputs": [
    {
     "name": "stdout",
     "output_type": "stream",
     "text": [
      "f1: 0.752953813104189\n"
     ]
    }
   ],
   "source": [
    "print('f1:', f1_score(test['target'], clf.predict(bow_test)))"
   ]
  },
  {
   "cell_type": "markdown",
   "metadata": {},
   "source": [
    "## Задание 9 (1 балл)\n",
    "\n",
    "1. Повторите 7 задание, но с tf-idf векторизатором. Как изменилось качество?\n",
    "2. Мы можем еще сильнее уменьшить размер нашей матрицы, если отбросим значения df близкие к единице. Скорее всего такие слова не несут много информации о категории, так как встречаются достаточно часто. Ограничьте максимальный df в параметрах TfIdfVectorizer, поставьте верхнюю границу равную 0.9. Как изменился размер матрицы, как изменилось качество?\n",
    "3. Также мы можем уменьшить размер матрицы, удаляя слова со слишком маленьким df. Удалось ли добиться улучшения качества? "
   ]
  },
  {
   "cell_type": "code",
   "execution_count": null,
   "metadata": {},
   "outputs": [],
   "source": [
    "from sklearn.feature_extraction.text import TfidfVectorizer"
   ]
  },
  {
   "cell_type": "code",
   "execution_count": null,
   "metadata": {},
   "outputs": [],
   "source": [
    "tfidf = TfidfVectorizer(tokenizer = tknz)\n",
    "bow_1 = tfidf.fit_transform(train['keyword_location_text'])\n",
    "\n",
    "bow_1_test = tfidf.transform(test['keyword_location_text'])"
   ]
  },
  {
   "cell_type": "code",
   "execution_count": null,
   "metadata": {},
   "outputs": [],
   "source": [
    "clf_idf = LogisticRegression(random_state = 1)\n",
    "clf_idf.fit(bow_1, train['keyword_location_text'])"
   ]
  },
  {
   "cell_type": "code",
   "execution_count": null,
   "metadata": {},
   "outputs": [],
   "source": [
    "print('f1:', f1_score(test['keyword_location_text'], clf_td_idf.predict(bow_1_test)))"
   ]
  },
  {
   "cell_type": "code",
   "execution_count": null,
   "metadata": {},
   "outputs": [],
   "source": [
    "tfidf_2 = TfidfVectorizer(max_df=0.9, tokenizer = tknz)\n",
    "bow_2 = tfidf.fit_transform(train['keyword_location_text'])\n",
    "\n",
    "bow_2_test = tfidf.transform(test['keyword_location_text'])"
   ]
  },
  {
   "cell_type": "code",
   "execution_count": null,
   "metadata": {},
   "outputs": [],
   "source": [
    "clf_idf_2 = LogisticRegression(random_state = 1)\n",
    "clf_idf_2.fit(bow_2, train['keyword_location_text'])"
   ]
  },
  {
   "cell_type": "code",
   "execution_count": null,
   "metadata": {},
   "outputs": [],
   "source": [
    "print('f1:', f1_score(test['keyword_location_text'], clf_td_idf.predict(bow_2_test)))"
   ]
  },
  {
   "cell_type": "code",
   "execution_count": null,
   "metadata": {},
   "outputs": [],
   "source": [
    "tfidf_3 = TfidfVectorizer(max_df=0.9, min_df=0.001, tokenizer = tknz)\n",
    "bow_3 = tfidf.fit_transform(train['keyword_location_text'])\n",
    "\n",
    "bow_3_test = tfidf.transform(test['keyword_location_text'])"
   ]
  },
  {
   "cell_type": "code",
   "execution_count": null,
   "metadata": {},
   "outputs": [],
   "source": [
    "clf_idf_3 = LogisticRegression(random_state = 1)\n",
    "clf_idf_3.fit(bow_3, train['keyword_location_text'])"
   ]
  },
  {
   "cell_type": "code",
   "execution_count": null,
   "metadata": {},
   "outputs": [],
   "source": [
    "print('f1:', f1_score(test['keyword_location_text'], clf_td_idf.predict(bow_3_test)))"
   ]
  },
  {
   "cell_type": "markdown",
   "metadata": {},
   "source": [
    "## Задание 10 (1 балл)\n",
    "\n",
    "Еще один популяпный трюк, который позволит уменьшить количество признаков называется hashing trick. Его суть в том, то мы случайно группируем признаки ииии  ..... складываем их! А потом удаляем исходные признаки. В итоге все наши признаки это просто суммы исходных. Звучит странно, но это отлично работает. Давайте проверим этот трюк в нашем сеттинге.\n",
    "Также при таком подходе вам не нужно хранить словарь token->index, что тоже иногда полезно.\n",
    "\n",
    "1. Повторите задание 7 с HashingVectorizer, укажите количество фичей равное 5000.\n",
    "2. Какой из подходов показал самый высокий результат?"
   ]
  },
  {
   "cell_type": "markdown",
   "metadata": {},
   "source": [
    "## Задание 11 (1 балл)\n",
    "\n",
    "В этом задании нужно добиться f1 меры хотя в 0.75 на тестовых данных."
   ]
  }
 ],
 "metadata": {
  "kernelspec": {
   "display_name": "Python 3 (ipykernel)",
   "language": "python",
   "name": "python3"
  },
  "language_info": {
   "codemirror_mode": {
    "name": "ipython",
    "version": 3
   },
   "file_extension": ".py",
   "mimetype": "text/x-python",
   "name": "python",
   "nbconvert_exporter": "python",
   "pygments_lexer": "ipython3",
   "version": "3.9.7"
  }
 },
 "nbformat": 4,
 "nbformat_minor": 2
}
